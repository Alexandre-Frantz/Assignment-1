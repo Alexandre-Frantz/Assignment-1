{
 "cells": [
  {
   "cell_type": "markdown",
   "metadata": {},
   "source": [
    "# Machine Learning - Technical Assignment 1\n",
    "\n",
    "**Name:**       Alexandre Frantz\n",
    "\n",
    "**Student ID:** 0170616914\n",
    "\n",
    "**Date:**       13.10.2022"
   ]
  },
  {
   "cell_type": "markdown",
   "metadata": {},
   "source": [
    "## Environment setup and package instalation"
   ]
  },
  {
   "cell_type": "code",
   "execution_count": 14,
   "metadata": {},
   "outputs": [
    {
     "name": "stderr",
     "output_type": "stream",
     "text": [
      "Error: [Errno 13] Permission denied: 'c:\\\\Users\\\\Alex\\\\Documents\\\\ISM\\\\Semester 3\\\\Machine Learning - Space Master\\\\Assignments\\\\Assignment 1\\\\sklearn-venv\\\\Scripts\\\\python.exe'\n"
     ]
    },
    {
     "name": "stdout",
     "output_type": "stream",
     "text": [
      "Requirement already satisfied: scikit-learn in c:\\users\\alex\\documents\\ism\\semester 3\\machine learning - space master\\assignments\\assignment 1\\sklearn-venv\\lib\\site-packages (1.1.2)\n",
      "Requirement already satisfied: joblib>=1.0.0 in c:\\users\\alex\\documents\\ism\\semester 3\\machine learning - space master\\assignments\\assignment 1\\sklearn-venv\\lib\\site-packages (from scikit-learn) (1.2.0)\n",
      "Requirement already satisfied: numpy>=1.17.3 in c:\\users\\alex\\documents\\ism\\semester 3\\machine learning - space master\\assignments\\assignment 1\\sklearn-venv\\lib\\site-packages (from scikit-learn) (1.23.4)\n",
      "Requirement already satisfied: threadpoolctl>=2.0.0 in c:\\users\\alex\\documents\\ism\\semester 3\\machine learning - space master\\assignments\\assignment 1\\sklearn-venv\\lib\\site-packages (from scikit-learn) (3.1.0)\n",
      "Requirement already satisfied: scipy>=1.3.2 in c:\\users\\alex\\documents\\ism\\semester 3\\machine learning - space master\\assignments\\assignment 1\\sklearn-venv\\lib\\site-packages (from scikit-learn) (1.9.2)\n"
     ]
    },
    {
     "name": "stderr",
     "output_type": "stream",
     "text": [
      "WARNING: You are using pip version 21.2.3; however, version 22.2.2 is available.\n",
      "You should consider upgrading via the 'c:\\Users\\Alex\\Documents\\ISM\\Semester 3\\Machine Learning - Space Master\\Assignments\\Assignment 1\\sklearn-venv\\Scripts\\python.exe -m pip install --upgrade pip' command.\n"
     ]
    },
    {
     "name": "stdout",
     "output_type": "stream",
     "text": [
      "Requirement already satisfied: pandas in c:\\users\\alex\\documents\\ism\\semester 3\\machine learning - space master\\assignments\\assignment 1\\sklearn-venv\\lib\\site-packages (1.5.0)\n",
      "Requirement already satisfied: numpy>=1.20.3 in c:\\users\\alex\\documents\\ism\\semester 3\\machine learning - space master\\assignments\\assignment 1\\sklearn-venv\\lib\\site-packages (from pandas) (1.23.4)\n",
      "Requirement already satisfied: python-dateutil>=2.8.1 in c:\\users\\alex\\documents\\ism\\semester 3\\machine learning - space master\\assignments\\assignment 1\\sklearn-venv\\lib\\site-packages (from pandas) (2.8.2)\n",
      "Requirement already satisfied: pytz>=2020.1 in c:\\users\\alex\\documents\\ism\\semester 3\\machine learning - space master\\assignments\\assignment 1\\sklearn-venv\\lib\\site-packages (from pandas) (2022.4)\n",
      "Requirement already satisfied: six>=1.5 in c:\\users\\alex\\documents\\ism\\semester 3\\machine learning - space master\\assignments\\assignment 1\\sklearn-venv\\lib\\site-packages (from python-dateutil>=2.8.1->pandas) (1.16.0)\n"
     ]
    },
    {
     "name": "stderr",
     "output_type": "stream",
     "text": [
      "WARNING: You are using pip version 21.2.3; however, version 22.2.2 is available.\n",
      "You should consider upgrading via the 'c:\\Users\\Alex\\Documents\\ISM\\Semester 3\\Machine Learning - Space Master\\Assignments\\Assignment 1\\sklearn-venv\\Scripts\\python.exe -m pip install --upgrade pip' command.\n"
     ]
    },
    {
     "name": "stdout",
     "output_type": "stream",
     "text": [
      "Collecting matplotlib\n",
      "  Downloading matplotlib-3.6.1-cp39-cp39-win_amd64.whl (7.2 MB)\n",
      "Requirement already satisfied: numpy>=1.19 in c:\\users\\alex\\documents\\ism\\semester 3\\machine learning - space master\\assignments\\assignment 1\\sklearn-venv\\lib\\site-packages (from matplotlib) (1.23.4)\n",
      "Collecting pyparsing>=2.2.1\n",
      "  Using cached pyparsing-3.0.9-py3-none-any.whl (98 kB)\n",
      "Collecting cycler>=0.10\n",
      "  Using cached cycler-0.11.0-py3-none-any.whl (6.4 kB)\n",
      "Collecting fonttools>=4.22.0\n",
      "  Downloading fonttools-4.37.4-py3-none-any.whl (960 kB)\n",
      "Requirement already satisfied: python-dateutil>=2.7 in c:\\users\\alex\\documents\\ism\\semester 3\\machine learning - space master\\assignments\\assignment 1\\sklearn-venv\\lib\\site-packages (from matplotlib) (2.8.2)\n",
      "Collecting pillow>=6.2.0\n",
      "  Downloading Pillow-9.2.0-cp39-cp39-win_amd64.whl (3.3 MB)\n",
      "Collecting kiwisolver>=1.0.1\n",
      "  Downloading kiwisolver-1.4.4-cp39-cp39-win_amd64.whl (55 kB)\n",
      "Collecting packaging>=20.0\n",
      "  Using cached packaging-21.3-py3-none-any.whl (40 kB)\n",
      "Collecting contourpy>=1.0.1\n",
      "  Downloading contourpy-1.0.5-cp39-cp39-win_amd64.whl (161 kB)\n",
      "Requirement already satisfied: six>=1.5 in c:\\users\\alex\\documents\\ism\\semester 3\\machine learning - space master\\assignments\\assignment 1\\sklearn-venv\\lib\\site-packages (from python-dateutil>=2.7->matplotlib) (1.16.0)\n",
      "Installing collected packages: pyparsing, pillow, packaging, kiwisolver, fonttools, cycler, contourpy, matplotlib\n",
      "Successfully installed contourpy-1.0.5 cycler-0.11.0 fonttools-4.37.4 kiwisolver-1.4.4 matplotlib-3.6.1 packaging-21.3 pillow-9.2.0 pyparsing-3.0.9\n"
     ]
    },
    {
     "name": "stderr",
     "output_type": "stream",
     "text": [
      "WARNING: You are using pip version 21.2.3; however, version 22.2.2 is available.\n",
      "You should consider upgrading via the 'c:\\Users\\Alex\\Documents\\ISM\\Semester 3\\Machine Learning - Space Master\\Assignments\\Assignment 1\\sklearn-venv\\Scripts\\python.exe -m pip install --upgrade pip' command.\n"
     ]
    }
   ],
   "source": [
    "!python -m venv sklearn-venv\n",
    "!sklearn-venv\\Scripts\\activate\n",
    "!pip install -U scikit-learn\n",
    "!pip install -U pandas\n",
    "!pip install matplotlib"
   ]
  },
  {
   "cell_type": "markdown",
   "metadata": {},
   "source": [
    "### Check Instalation"
   ]
  },
  {
   "cell_type": "code",
   "execution_count": 15,
   "metadata": {},
   "outputs": [
    {
     "name": "stdout",
     "output_type": "stream",
     "text": [
      "Name: scikit-learn\n",
      "Version: 1.1.2\n",
      "Summary: A set of python modules for machine learning and data mining\n",
      "Home-page: http://scikit-learn.org\n",
      "Author: \n",
      "Author-email: \n",
      "License: new BSD\n",
      "Location: c:\\users\\alex\\documents\\ism\\semester 3\\machine learning - space master\\assignments\\assignment 1\\sklearn-venv\\lib\\site-packages\n",
      "Requires: scipy, joblib, threadpoolctl, numpy\n",
      "Required-by: \n"
     ]
    }
   ],
   "source": [
    "!python -m pip show scikit-learn"
   ]
  },
  {
   "cell_type": "code",
   "execution_count": 16,
   "metadata": {},
   "outputs": [
    {
     "name": "stdout",
     "output_type": "stream",
     "text": [
      "\n",
      "System:\n",
      "    python: 3.9.7 (tags/v3.9.7:1016ef3, Aug 30 2021, 20:19:38) [MSC v.1929 64 bit (AMD64)]\n",
      "executable: c:\\Users\\Alex\\Documents\\ISM\\Semester 3\\Machine Learning - Space Master\\Assignments\\Assignment 1\\sklearn-venv\\Scripts\\python.exe\n",
      "   machine: Windows-10-10.0.22000-SP0\n",
      "\n",
      "Python dependencies:\n",
      "      sklearn: 1.1.2\n",
      "          pip: 21.2.3\n",
      "   setuptools: 57.4.0\n",
      "        numpy: 1.23.4\n",
      "        scipy: 1.9.2\n",
      "       Cython: None\n",
      "       pandas: 1.5.0\n",
      "   matplotlib: 3.6.1\n",
      "       joblib: 1.2.0\n",
      "threadpoolctl: 3.1.0\n",
      "\n",
      "Built with OpenMP: True\n",
      "\n",
      "threadpoolctl info:\n",
      "       user_api: openmp\n",
      "   internal_api: openmp\n",
      "         prefix: vcomp\n",
      "       filepath: C:\\Users\\Alex\\Documents\\ISM\\Semester 3\\Machine Learning - Space Master\\Assignments\\Assignment 1\\sklearn-venv\\Lib\\site-packages\\sklearn\\.libs\\vcomp140.dll\n",
      "        version: None\n",
      "    num_threads: 16\n",
      "\n",
      "       user_api: blas\n",
      "   internal_api: openblas\n",
      "         prefix: libopenblas\n",
      "       filepath: C:\\Users\\Alex\\Documents\\ISM\\Semester 3\\Machine Learning - Space Master\\Assignments\\Assignment 1\\sklearn-venv\\Lib\\site-packages\\numpy\\.libs\\libopenblas.FB5AE2TYXYH2IJRDKGDGQ3XBKLKTF43H.gfortran-win_amd64.dll\n",
      "        version: 0.3.20\n",
      "threading_layer: pthreads\n",
      "   architecture: Zen\n",
      "    num_threads: 16\n",
      "\n",
      "       user_api: blas\n",
      "   internal_api: openblas\n",
      "         prefix: libopenblas\n",
      "       filepath: C:\\Users\\Alex\\Documents\\ISM\\Semester 3\\Machine Learning - Space Master\\Assignments\\Assignment 1\\sklearn-venv\\Lib\\site-packages\\scipy.libs\\libopenblas-57db09cfe174768fb409a6bb5a530d4c.dll\n",
      "        version: 0.3.18\n",
      "threading_layer: pthreads\n",
      "   architecture: Zen\n",
      "    num_threads: 16\n"
     ]
    }
   ],
   "source": [
    "!python -c \"import sklearn; sklearn.show_versions()\""
   ]
  },
  {
   "cell_type": "markdown",
   "metadata": {},
   "source": [
    "## Assignment Source Code"
   ]
  },
  {
   "cell_type": "markdown",
   "metadata": {},
   "source": [
    "Import necessary packages/libraries"
   ]
  },
  {
   "cell_type": "code",
   "execution_count": 1,
   "metadata": {},
   "outputs": [],
   "source": [
    "import numpy as np\n",
    "import pandas as pd\n",
    "import sklearn\n",
    "import scipy.stats as st\n",
    "import sklearn.linear_model as lm\n",
    "import sklearn.model_selection as ms\n",
    "import matplotlib.pyplot as plt\n",
    "%matplotlib inline"
   ]
  },
  {
   "cell_type": "markdown",
   "metadata": {},
   "source": [
    "Data Preprocessing"
   ]
  },
  {
   "cell_type": "code",
   "execution_count": null,
   "metadata": {},
   "outputs": [],
   "source": []
  }
 ],
 "metadata": {
  "kernelspec": {
   "display_name": "Python 3.9.7 64-bit",
   "language": "python",
   "name": "python3"
  },
  "language_info": {
   "codemirror_mode": {
    "name": "ipython",
    "version": 3
   },
   "file_extension": ".py",
   "mimetype": "text/x-python",
   "name": "python",
   "nbconvert_exporter": "python",
   "pygments_lexer": "ipython3",
   "version": "3.9.7"
  },
  "orig_nbformat": 4,
  "vscode": {
   "interpreter": {
    "hash": "ba4c651cdc5ec17c511bce19f294202fdc45305f9de1f927c569f32faa173ead"
   }
  }
 },
 "nbformat": 4,
 "nbformat_minor": 2
}
