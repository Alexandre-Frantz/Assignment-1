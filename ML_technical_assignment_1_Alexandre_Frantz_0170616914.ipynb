{
 "cells": [
  {
   "cell_type": "markdown",
   "metadata": {},
   "source": [
    "# Machine Learning - Technical Assignment 1\n",
    "\n",
    "**Name:**       Alexandre Frantz\n",
    "\n",
    "**Student ID:** 0170616914\n",
    "\n",
    "**Date:**       13.10.2022"
   ]
  },
  {
   "cell_type": "markdown",
   "metadata": {},
   "source": [
    "## Environment setup and package instalation\n",
    "\n",
    "Main Reference: https://www.kaggle.com/code/ziadhamadafathy/classification-using-some-types-models"
   ]
  },
  {
   "cell_type": "code",
   "execution_count": 1,
   "metadata": {},
   "outputs": [
    {
     "name": "stdout",
     "output_type": "stream",
     "text": [
      "Requirement already satisfied: scikit-learn in c:\\users\\alex\\appdata\\local\\programs\\python\\python39\\lib\\site-packages (1.1.2)\n",
      "Requirement already satisfied: joblib>=1.0.0 in c:\\users\\alex\\appdata\\local\\programs\\python\\python39\\lib\\site-packages (from scikit-learn) (1.2.0)\n",
      "Requirement already satisfied: threadpoolctl>=2.0.0 in c:\\users\\alex\\appdata\\local\\programs\\python\\python39\\lib\\site-packages (from scikit-learn) (3.1.0)\n",
      "Requirement already satisfied: scipy>=1.3.2 in c:\\users\\alex\\appdata\\local\\programs\\python\\python39\\lib\\site-packages (from scikit-learn) (1.7.1)\n",
      "Requirement already satisfied: numpy>=1.17.3 in c:\\users\\alex\\appdata\\local\\programs\\python\\python39\\lib\\site-packages (from scikit-learn) (1.21.2)\n"
     ]
    },
    {
     "name": "stderr",
     "output_type": "stream",
     "text": [
      "WARNING: You are using pip version 21.3.1; however, version 22.2.2 is available.\n",
      "You should consider upgrading via the 'C:\\Users\\Alex\\AppData\\Local\\Programs\\Python\\Python39\\python.exe -m pip install --upgrade pip' command.\n"
     ]
    },
    {
     "name": "stdout",
     "output_type": "stream",
     "text": [
      "Requirement already satisfied: pandas in c:\\users\\alex\\appdata\\local\\programs\\python\\python39\\lib\\site-packages (1.5.0)"
     ]
    },
    {
     "name": "stderr",
     "output_type": "stream",
     "text": [
      "WARNING: You are using pip version 21.3.1; however, version 22.2.2 is available.\n",
      "You should consider upgrading via the 'C:\\Users\\Alex\\AppData\\Local\\Programs\\Python\\Python39\\python.exe -m pip install --upgrade pip' command.\n"
     ]
    },
    {
     "name": "stdout",
     "output_type": "stream",
     "text": [
      "\n",
      "Collecting pandas\n",
      "  Downloading pandas-1.5.1-cp39-cp39-win_amd64.whl (10.9 MB)\n",
      "Requirement already satisfied: python-dateutil>=2.8.1 in c:\\users\\alex\\appdata\\local\\programs\\python\\python39\\lib\\site-packages (from pandas) (2.8.2)\n",
      "Requirement already satisfied: pytz>=2020.1 in c:\\users\\alex\\appdata\\local\\programs\\python\\python39\\lib\\site-packages (from pandas) (2021.1)\n",
      "Requirement already satisfied: numpy>=1.20.3 in c:\\users\\alex\\appdata\\local\\programs\\python\\python39\\lib\\site-packages (from pandas) (1.21.2)\n",
      "Requirement already satisfied: six>=1.5 in c:\\users\\alex\\appdata\\local\\programs\\python\\python39\\lib\\site-packages (from python-dateutil>=2.8.1->pandas) (1.16.0)\n",
      "Installing collected packages: pandas\n",
      "  Attempting uninstall: pandas\n",
      "    Found existing installation: pandas 1.5.0\n",
      "    Uninstalling pandas-1.5.0:\n",
      "      Successfully uninstalled pandas-1.5.0\n",
      "Successfully installed pandas-1.5.1\n",
      "Requirement already satisfied: matplotlib in c:\\users\\alex\\appdata\\local\\programs\\python\\python39\\lib\\site-packages (3.5.0)\n",
      "Requirement already satisfied: setuptools-scm>=4 in c:\\users\\alex\\appdata\\local\\programs\\python\\python39\\lib\\site-packages (from matplotlib) (6.3.2)\n",
      "Requirement already satisfied: pillow>=6.2.0 in c:\\users\\alex\\appdata\\local\\programs\\python\\python39\\lib\\site-packages (from matplotlib) (8.4.0)\n",
      "Requirement already satisfied: kiwisolver>=1.0.1 in c:\\users\\alex\\appdata\\local\\programs\\python\\python39\\lib\\site-packages (from matplotlib) (1.3.2)\n",
      "Requirement already satisfied: cycler>=0.10 in c:\\users\\alex\\appdata\\local\\programs\\python\\python39\\lib\\site-packages (from matplotlib) (0.11.0)\n",
      "Requirement already satisfied: fonttools>=4.22.0 in c:\\users\\alex\\appdata\\local\\programs\\python\\python39\\lib\\site-packages (from matplotlib) (4.28.3)\n",
      "Requirement already satisfied: python-dateutil>=2.7 in c:\\users\\alex\\appdata\\local\\programs\\python\\python39\\lib\\site-packages (from matplotlib) (2.8.2)\n",
      "Requirement already satisfied: numpy>=1.17 in c:\\users\\alex\\appdata\\local\\programs\\python\\python39\\lib\\site-packages (from matplotlib) (1.21.2)\n",
      "Requirement already satisfied: pyparsing>=2.2.1 in c:\\users\\alex\\appdata\\local\\programs\\python\\python39\\lib\\site-packages (from matplotlib) (2.4.7)\n",
      "Requirement already satisfied: packaging>=20.0 in c:\\users\\alex\\appdata\\local\\programs\\python\\python39\\lib\\site-packages (from matplotlib) (21.0)\n",
      "Requirement already satisfied: six>=1.5 in c:\\users\\alex\\appdata\\local\\programs\\python\\python39\\lib\\site-packages (from python-dateutil>=2.7->matplotlib) (1.16.0)\n",
      "Requirement already satisfied: tomli>=1.0.0 in c:\\users\\alex\\appdata\\local\\programs\\python\\python39\\lib\\site-packages (from setuptools-scm>=4->matplotlib) (1.2.2)\n",
      "Requirement already satisfied: setuptools in c:\\users\\alex\\appdata\\local\\programs\\python\\python39\\lib\\site-packages (from setuptools-scm>=4->matplotlib) (57.4.0)\n"
     ]
    },
    {
     "name": "stderr",
     "output_type": "stream",
     "text": [
      "WARNING: You are using pip version 21.3.1; however, version 22.2.2 is available.\n",
      "You should consider upgrading via the 'C:\\Users\\Alex\\AppData\\Local\\Programs\\Python\\Python39\\python.exe -m pip install --upgrade pip' command.\n"
     ]
    },
    {
     "name": "stdout",
     "output_type": "stream",
     "text": [
      "Requirement already satisfied: seaborn in c:\\users\\alex\\appdata\\local\\programs\\python\\python39\\lib\\site-packages (0.12.0)"
     ]
    },
    {
     "name": "stderr",
     "output_type": "stream",
     "text": [
      "WARNING: You are using pip version 21.3.1; however, version 22.2.2 is available.\n",
      "You should consider upgrading via the 'C:\\Users\\Alex\\AppData\\Local\\Programs\\Python\\Python39\\python.exe -m pip install --upgrade pip' command.\n"
     ]
    },
    {
     "name": "stdout",
     "output_type": "stream",
     "text": [
      "\n",
      "Requirement already satisfied: matplotlib>=3.1 in c:\\users\\alex\\appdata\\local\\programs\\python\\python39\\lib\\site-packages (from seaborn) (3.5.0)\n",
      "Requirement already satisfied: pandas>=0.25 in c:\\users\\alex\\appdata\\local\\programs\\python\\python39\\lib\\site-packages (from seaborn) (1.5.1)\n",
      "Requirement already satisfied: numpy>=1.17 in c:\\users\\alex\\appdata\\local\\programs\\python\\python39\\lib\\site-packages (from seaborn) (1.21.2)\n",
      "Requirement already satisfied: pillow>=6.2.0 in c:\\users\\alex\\appdata\\local\\programs\\python\\python39\\lib\\site-packages (from matplotlib>=3.1->seaborn) (8.4.0)\n",
      "Requirement already satisfied: setuptools-scm>=4 in c:\\users\\alex\\appdata\\local\\programs\\python\\python39\\lib\\site-packages (from matplotlib>=3.1->seaborn) (6.3.2)\n",
      "Requirement already satisfied: python-dateutil>=2.7 in c:\\users\\alex\\appdata\\local\\programs\\python\\python39\\lib\\site-packages (from matplotlib>=3.1->seaborn) (2.8.2)\n",
      "Requirement already satisfied: kiwisolver>=1.0.1 in c:\\users\\alex\\appdata\\local\\programs\\python\\python39\\lib\\site-packages (from matplotlib>=3.1->seaborn) (1.3.2)\n",
      "Requirement already satisfied: cycler>=0.10 in c:\\users\\alex\\appdata\\local\\programs\\python\\python39\\lib\\site-packages (from matplotlib>=3.1->seaborn) (0.11.0)\n",
      "Requirement already satisfied: pyparsing>=2.2.1 in c:\\users\\alex\\appdata\\local\\programs\\python\\python39\\lib\\site-packages (from matplotlib>=3.1->seaborn) (2.4.7)\n",
      "Requirement already satisfied: packaging>=20.0 in c:\\users\\alex\\appdata\\local\\programs\\python\\python39\\lib\\site-packages (from matplotlib>=3.1->seaborn) (21.0)\n",
      "Requirement already satisfied: fonttools>=4.22.0 in c:\\users\\alex\\appdata\\local\\programs\\python\\python39\\lib\\site-packages (from matplotlib>=3.1->seaborn) (4.28.3)\n",
      "Requirement already satisfied: pytz>=2020.1 in c:\\users\\alex\\appdata\\local\\programs\\python\\python39\\lib\\site-packages (from pandas>=0.25->seaborn) (2021.1)\n",
      "Requirement already satisfied: six>=1.5 in c:\\users\\alex\\appdata\\local\\programs\\python\\python39\\lib\\site-packages (from python-dateutil>=2.7->matplotlib>=3.1->seaborn) (1.16.0)\n",
      "Requirement already satisfied: tomli>=1.0.0 in c:\\users\\alex\\appdata\\local\\programs\\python\\python39\\lib\\site-packages (from setuptools-scm>=4->matplotlib>=3.1->seaborn) (1.2.2)\n",
      "Requirement already satisfied: setuptools in c:\\users\\alex\\appdata\\local\\programs\\python\\python39\\lib\\site-packages (from setuptools-scm>=4->matplotlib>=3.1->seaborn) (57.4.0)\n",
      "Requirement already satisfied: tensorflow in c:\\users\\alex\\appdata\\local\\programs\\python\\python39\\lib\\site-packages (2.10.0)\n",
      "Requirement already satisfied: google-pasta>=0.1.1 in c:\\users\\alex\\appdata\\local\\programs\\python\\python39\\lib\\site-packages (from tensorflow) (0.2.0)\n",
      "Requirement already satisfied: tensorboard<2.11,>=2.10 in c:\\users\\alex\\appdata\\local\\programs\\python\\python39\\lib\\site-packages (from tensorflow) (2.10.1)\n",
      "Requirement already satisfied: h5py>=2.9.0 in c:\\users\\alex\\appdata\\local\\programs\\python\\python39\\lib\\site-packages (from tensorflow) (3.7.0)\n",
      "Requirement already satisfied: packaging in c:\\users\\alex\\appdata\\local\\programs\\python\\python39\\lib\\site-packages (from tensorflow) (21.0)\n",
      "Requirement already satisfied: protobuf<3.20,>=3.9.2 in c:\\users\\alex\\appdata\\local\\programs\\python\\python39\\lib\\site-packages (from tensorflow) (3.19.6)\n",
      "Requirement already satisfied: numpy>=1.20 in c:\\users\\alex\\appdata\\local\\programs\\python\\python39\\lib\\site-packages (from tensorflow) (1.21.2)\n",
      "Requirement already satisfied: setuptools in c:\\users\\alex\\appdata\\local\\programs\\python\\python39\\lib\\site-packages (from tensorflow) (57.4.0)\n",
      "Requirement already satisfied: termcolor>=1.1.0 in c:\\users\\alex\\appdata\\local\\programs\\python\\python39\\lib\\site-packages (from tensorflow) (2.0.1)\n",
      "Requirement already satisfied: keras<2.11,>=2.10.0 in c:\\users\\alex\\appdata\\local\\programs\\python\\python39\\lib\\site-packages (from tensorflow) (2.10.0)\n",
      "Requirement already satisfied: gast<=0.4.0,>=0.2.1 in c:\\users\\alex\\appdata\\local\\programs\\python\\python39\\lib\\site-packages (from tensorflow) (0.4.0)\n",
      "Requirement already satisfied: opt-einsum>=2.3.2 in c:\\users\\alex\\appdata\\local\\programs\\python\\python39\\lib\\site-packages (from tensorflow) (3.3.0)\n",
      "Requirement already satisfied: tensorflow-estimator<2.11,>=2.10.0 in c:\\users\\alex\\appdata\\local\\programs\\python\\python39\\lib\\site-packages (from tensorflow) (2.10.0)\n",
      "Requirement already satisfied: six>=1.12.0 in c:\\users\\alex\\appdata\\local\\programs\\python\\python39\\lib\\site-packages (from tensorflow) (1.16.0)\n",
      "Requirement already satisfied: grpcio<2.0,>=1.24.3 in c:\\users\\alex\\appdata\\local\\programs\\python\\python39\\lib\\site-packages (from tensorflow) (1.49.1)\n",
      "Requirement already satisfied: absl-py>=1.0.0 in c:\\users\\alex\\appdata\\local\\programs\\python\\python39\\lib\\site-packages (from tensorflow) (1.3.0)\n",
      "Requirement already satisfied: typing-extensions>=3.6.6 in c:\\users\\alex\\appdata\\local\\programs\\python\\python39\\lib\\site-packages (from tensorflow) (4.4.0)\n",
      "Requirement already satisfied: libclang>=13.0.0 in c:\\users\\alex\\appdata\\local\\programs\\python\\python39\\lib\\site-packages (from tensorflow) (14.0.6)\n",
      "Requirement already satisfied: wrapt>=1.11.0 in c:\\users\\alex\\appdata\\local\\programs\\python\\python39\\lib\\site-packages (from tensorflow) (1.14.1)\n",
      "Requirement already satisfied: flatbuffers>=2.0 in c:\\users\\alex\\appdata\\local\\programs\\python\\python39\\lib\\site-packages (from tensorflow) (22.9.24)\n",
      "Requirement already satisfied: keras-preprocessing>=1.1.1 in c:\\users\\alex\\appdata\\local\\programs\\python\\python39\\lib\\site-packages (from tensorflow) (1.1.2)\n",
      "Requirement already satisfied: astunparse>=1.6.0 in c:\\users\\alex\\appdata\\local\\programs\\python\\python39\\lib\\site-packages (from tensorflow) (1.6.3)\n",
      "Requirement already satisfied: tensorflow-io-gcs-filesystem>=0.23.1 in c:\\users\\alex\\appdata\\local\\programs\\python\\python39\\lib\\site-packages (from tensorflow) (0.27.0)\n",
      "Requirement already satisfied: wheel<1.0,>=0.23.0 in c:\\users\\alex\\appdata\\local\\programs\\python\\python39\\lib\\site-packages (from astunparse>=1.6.0->tensorflow) (0.37.1)\n",
      "Requirement already satisfied: werkzeug>=1.0.1 in c:\\users\\alex\\appdata\\local\\programs\\python\\python39\\lib\\site-packages (from tensorboard<2.11,>=2.10->tensorflow) (2.2.2)\n",
      "Requirement already satisfied: tensorboard-plugin-wit>=1.6.0 in c:\\users\\alex\\appdata\\local\\programs\\python\\python39\\lib\\site-packages (from tensorboard<2.11,>=2.10->tensorflow) (1.8.1)\n",
      "Requirement already satisfied: markdown>=2.6.8 in c:\\users\\alex\\appdata\\local\\programs\\python\\python39\\lib\\site-packages (from tensorboard<2.11,>=2.10->tensorflow) (3.4.1)\n",
      "Requirement already satisfied: requests<3,>=2.21.0 in c:\\users\\alex\\appdata\\local\\programs\\python\\python39\\lib\\site-packages (from tensorboard<2.11,>=2.10->tensorflow) (2.28.1)\n",
      "Requirement already satisfied: google-auth-oauthlib<0.5,>=0.4.1 in c:\\users\\alex\\appdata\\local\\programs\\python\\python39\\lib\\site-packages (from tensorboard<2.11,>=2.10->tensorflow) (0.4.6)\n",
      "Requirement already satisfied: tensorboard-data-server<0.7.0,>=0.6.0 in c:\\users\\alex\\appdata\\local\\programs\\python\\python39\\lib\\site-packages (from tensorboard<2.11,>=2.10->tensorflow) (0.6.1)\n",
      "Requirement already satisfied: google-auth<3,>=1.6.3 in c:\\users\\alex\\appdata\\local\\programs\\python\\python39\\lib\\site-packages (from tensorboard<2.11,>=2.10->tensorflow) (2.12.0)\n",
      "Requirement already satisfied: pyparsing>=2.0.2 in c:\\users\\alex\\appdata\\local\\programs\\python\\python39\\lib\\site-packages (from packaging->tensorflow) (2.4.7)\n",
      "Requirement already satisfied: rsa<5,>=3.1.4 in c:\\users\\alex\\appdata\\local\\programs\\python\\python39\\lib\\site-packages (from google-auth<3,>=1.6.3->tensorboard<2.11,>=2.10->tensorflow) (4.9)\n",
      "Requirement already satisfied: pyasn1-modules>=0.2.1 in c:\\users\\alex\\appdata\\local\\programs\\python\\python39\\lib\\site-packages (from google-auth<3,>=1.6.3->tensorboard<2.11,>=2.10->tensorflow) (0.2.8)\n",
      "Requirement already satisfied: cachetools<6.0,>=2.0.0 in c:\\users\\alex\\appdata\\local\\programs\\python\\python39\\lib\\site-packages (from google-auth<3,>=1.6.3->tensorboard<2.11,>=2.10->tensorflow) (5.2.0)\n",
      "Requirement already satisfied: requests-oauthlib>=0.7.0 in c:\\users\\alex\\appdata\\local\\programs\\python\\python39\\lib\\site-packages (from google-auth-oauthlib<0.5,>=0.4.1->tensorboard<2.11,>=2.10->tensorflow) (1.3.1)\n",
      "Requirement already satisfied: importlib-metadata>=4.4 in c:\\users\\alex\\appdata\\local\\programs\\python\\python39\\lib\\site-packages (from markdown>=2.6.8->tensorboard<2.11,>=2.10->tensorflow) (5.0.0)\n",
      "Requirement already satisfied: idna<4,>=2.5 in c:\\users\\alex\\appdata\\local\\programs\\python\\python39\\lib\\site-packages (from requests<3,>=2.21.0->tensorboard<2.11,>=2.10->tensorflow) (3.4)\n",
      "Requirement already satisfied: certifi>=2017.4.17 in c:\\users\\alex\\appdata\\local\\programs\\python\\python39\\lib\\site-packages (from requests<3,>=2.21.0->tensorboard<2.11,>=2.10->tensorflow) (2022.9.24)\n",
      "Requirement already satisfied: charset-normalizer<3,>=2 in c:\\users\\alex\\appdata\\local\\programs\\python\\python39\\lib\\site-packages (from requests<3,>=2.21.0->tensorboard<2.11,>=2.10->tensorflow) (2.1.1)\n",
      "Requirement already satisfied: urllib3<1.27,>=1.21.1 in c:\\users\\alex\\appdata\\local\\programs\\python\\python39\\lib\\site-packages (from requests<3,>=2.21.0->tensorboard<2.11,>=2.10->tensorflow) (1.26.12)\n",
      "Requirement already satisfied: MarkupSafe>=2.1.1 in c:\\users\\alex\\appdata\\local\\programs\\python\\python39\\lib\\site-packages (from werkzeug>=1.0.1->tensorboard<2.11,>=2.10->tensorflow) (2.1.1)\n",
      "Requirement already satisfied: zipp>=0.5 in c:\\users\\alex\\appdata\\local\\programs\\python\\python39\\lib\\site-packages (from importlib-metadata>=4.4->markdown>=2.6.8->tensorboard<2.11,>=2.10->tensorflow) (3.9.0)\n",
      "Requirement already satisfied: pyasn1<0.5.0,>=0.4.6 in c:\\users\\alex\\appdata\\local\\programs\\python\\python39\\lib\\site-packages (from pyasn1-modules>=0.2.1->google-auth<3,>=1.6.3->tensorboard<2.11,>=2.10->tensorflow) (0.4.8)\n",
      "Requirement already satisfied: oauthlib>=3.0.0 in c:\\users\\alex\\appdata\\local\\programs\\python\\python39\\lib\\site-packages (from requests-oauthlib>=0.7.0->google-auth-oauthlib<0.5,>=0.4.1->tensorboard<2.11,>=2.10->tensorflow) (3.2.1)\n"
     ]
    },
    {
     "name": "stderr",
     "output_type": "stream",
     "text": [
      "WARNING: You are using pip version 21.3.1; however, version 22.2.2 is available.\n",
      "You should consider upgrading via the 'C:\\Users\\Alex\\AppData\\Local\\Programs\\Python\\Python39\\python.exe -m pip install --upgrade pip' command.\n"
     ]
    }
   ],
   "source": [
    "!python -m venv sklearn-venv\n",
    "!sklearn-venv\\Scripts\\activate\n",
    "!pip install -U scikit-learn\n",
    "!pip install -U pandas\n",
    "!pip install matplotlib\n",
    "!pip install seaborn\n",
    "!pip install tensorflow"
   ]
  },
  {
   "cell_type": "markdown",
   "metadata": {},
   "source": [
    "### Check Instalation"
   ]
  },
  {
   "cell_type": "code",
   "execution_count": 2,
   "metadata": {},
   "outputs": [
    {
     "name": "stdout",
     "output_type": "stream",
     "text": [
      "Name: scikit-learn\n",
      "Version: 1.1.2\n",
      "Summary: A set of python modules for machine learning and data mining\n",
      "Home-page: http://scikit-learn.org\n",
      "Author: \n",
      "Author-email: \n",
      "License: new BSD\n",
      "Location: c:\\users\\alex\\appdata\\local\\programs\\python\\python39\\lib\\site-packages\n",
      "Requires: joblib, numpy, scipy, threadpoolctl\n",
      "Required-by: \n"
     ]
    }
   ],
   "source": [
    "!python -m pip show scikit-learn"
   ]
  },
  {
   "cell_type": "code",
   "execution_count": 3,
   "metadata": {},
   "outputs": [
    {
     "name": "stdout",
     "output_type": "stream",
     "text": [
      "\n",
      "System:\n",
      "    python: 3.9.7 (tags/v3.9.7:1016ef3, Aug 30 2021, 20:19:38) [MSC v.1929 64 bit (AMD64)]\n",
      "executable: c:\\Users\\Alex\\AppData\\Local\\Programs\\Python\\Python39\\python.exe\n",
      "   machine: Windows-10-10.0.22000-SP0\n",
      "\n",
      "Python dependencies:\n",
      "      sklearn: 1.1.2\n",
      "          pip: 21.3.1\n",
      "   setuptools: 57.4.0\n",
      "        numpy: 1.21.2\n",
      "        scipy: 1.7.1\n",
      "       Cython: None\n",
      "       pandas: 1.5.1\n",
      "   matplotlib: 3.5.0\n",
      "       joblib: 1.2.0\n",
      "threadpoolctl: 3.1.0\n",
      "\n",
      "Built with OpenMP: True\n",
      "\n",
      "threadpoolctl info:\n",
      "       user_api: openmp\n",
      "   internal_api: openmp\n",
      "         prefix: vcomp\n",
      "       filepath: C:\\Users\\Alex\\AppData\\Local\\Programs\\Python\\Python39\\Lib\\site-packages\\sklearn\\.libs\\vcomp140.dll\n",
      "        version: None\n",
      "    num_threads: 16\n",
      "\n",
      "       user_api: blas\n",
      "   internal_api: openblas\n",
      "         prefix: libopenblas\n",
      "       filepath: C:\\Users\\Alex\\AppData\\Local\\Programs\\Python\\Python39\\Lib\\site-packages\\numpy\\.libs\\libopenblas.XWYDX2IKJW2NMTWSFYNGFUWKQU3LYTCZ.gfortran-win_amd64.dll\n",
      "        version: 0.3.17\n",
      "threading_layer: pthreads\n",
      "   architecture: Zen\n",
      "    num_threads: 16\n",
      "\n",
      "       user_api: blas\n",
      "   internal_api: openblas\n",
      "         prefix: libopenblas\n",
      "       filepath: C:\\Users\\Alex\\AppData\\Local\\Programs\\Python\\Python39\\Lib\\site-packages\\scipy\\.libs\\libopenblas.3HBPCJB5BPQGKWVZAVEBXNNJ2Q2G3TUP.gfortran-win_amd64.dll\n",
      "        version: 0.3.9\n",
      "threading_layer: pthreads\n",
      "   architecture: Barcelona\n",
      "    num_threads: 16\n"
     ]
    }
   ],
   "source": [
    "!python -c \"import sklearn; sklearn.show_versions()\""
   ]
  },
  {
   "cell_type": "markdown",
   "metadata": {},
   "source": [
    "## Assignment Source Code"
   ]
  },
  {
   "cell_type": "markdown",
   "metadata": {},
   "source": [
    "### Random Forest Classifier Approach"
   ]
  },
  {
   "cell_type": "markdown",
   "metadata": {},
   "source": [
    "Import necessary packages/libraries"
   ]
  },
  {
   "cell_type": "code",
   "execution_count": 1,
   "metadata": {},
   "outputs": [],
   "source": [
    "import numpy as np\n",
    "import pandas as pd\n",
    "import sklearn\n",
    "import scipy.stats as st\n",
    "import sklearn.linear_model as lm\n",
    "import sklearn.model_selection as ms\n",
    "import matplotlib.pyplot as plt\n",
    "%matplotlib inline"
   ]
  },
  {
   "cell_type": "markdown",
   "metadata": {},
   "source": [
    "Data Preprocessing"
   ]
  },
  {
   "cell_type": "code",
   "execution_count": 2,
   "metadata": {},
   "outputs": [],
   "source": [
    "dataset = pd.read_csv(\"dataset.csv\")"
   ]
  },
  {
   "cell_type": "code",
   "execution_count": 6,
   "metadata": {},
   "outputs": [
    {
     "data": {
      "text/html": [
       "<div>\n",
       "<style scoped>\n",
       "    .dataframe tbody tr th:only-of-type {\n",
       "        vertical-align: middle;\n",
       "    }\n",
       "\n",
       "    .dataframe tbody tr th {\n",
       "        vertical-align: top;\n",
       "    }\n",
       "\n",
       "    .dataframe thead th {\n",
       "        text-align: right;\n",
       "    }\n",
       "</style>\n",
       "<table border=\"1\" class=\"dataframe\">\n",
       "  <thead>\n",
       "    <tr style=\"text-align: right;\">\n",
       "      <th></th>\n",
       "      <th>objid</th>\n",
       "      <th>ra</th>\n",
       "      <th>dec</th>\n",
       "      <th>u</th>\n",
       "      <th>g</th>\n",
       "      <th>r</th>\n",
       "      <th>i</th>\n",
       "      <th>z</th>\n",
       "      <th>run</th>\n",
       "      <th>rerun</th>\n",
       "      <th>camcol</th>\n",
       "      <th>field</th>\n",
       "      <th>specobjid</th>\n",
       "      <th>class</th>\n",
       "      <th>redshift</th>\n",
       "      <th>plate</th>\n",
       "      <th>mjd</th>\n",
       "      <th>fiberid</th>\n",
       "    </tr>\n",
       "  </thead>\n",
       "  <tbody>\n",
       "    <tr>\n",
       "      <th>0</th>\n",
       "      <td>1.237650e+18</td>\n",
       "      <td>183.531326</td>\n",
       "      <td>0.089693</td>\n",
       "      <td>19.47406</td>\n",
       "      <td>17.04240</td>\n",
       "      <td>15.94699</td>\n",
       "      <td>15.50342</td>\n",
       "      <td>15.22531</td>\n",
       "      <td>752</td>\n",
       "      <td>301</td>\n",
       "      <td>4</td>\n",
       "      <td>267</td>\n",
       "      <td>3.722360e+18</td>\n",
       "      <td>STAR</td>\n",
       "      <td>-0.000009</td>\n",
       "      <td>3306</td>\n",
       "      <td>54922</td>\n",
       "      <td>491</td>\n",
       "    </tr>\n",
       "    <tr>\n",
       "      <th>1</th>\n",
       "      <td>1.237650e+18</td>\n",
       "      <td>183.598370</td>\n",
       "      <td>0.135285</td>\n",
       "      <td>18.66280</td>\n",
       "      <td>17.21449</td>\n",
       "      <td>16.67637</td>\n",
       "      <td>16.48922</td>\n",
       "      <td>16.39150</td>\n",
       "      <td>752</td>\n",
       "      <td>301</td>\n",
       "      <td>4</td>\n",
       "      <td>267</td>\n",
       "      <td>3.638140e+17</td>\n",
       "      <td>STAR</td>\n",
       "      <td>-0.000055</td>\n",
       "      <td>323</td>\n",
       "      <td>51615</td>\n",
       "      <td>541</td>\n",
       "    </tr>\n",
       "    <tr>\n",
       "      <th>2</th>\n",
       "      <td>1.237650e+18</td>\n",
       "      <td>183.680207</td>\n",
       "      <td>0.126185</td>\n",
       "      <td>19.38298</td>\n",
       "      <td>18.19169</td>\n",
       "      <td>17.47428</td>\n",
       "      <td>17.08732</td>\n",
       "      <td>16.80125</td>\n",
       "      <td>752</td>\n",
       "      <td>301</td>\n",
       "      <td>4</td>\n",
       "      <td>268</td>\n",
       "      <td>3.232740e+17</td>\n",
       "      <td>GALAXY</td>\n",
       "      <td>0.123111</td>\n",
       "      <td>287</td>\n",
       "      <td>52023</td>\n",
       "      <td>513</td>\n",
       "    </tr>\n",
       "    <tr>\n",
       "      <th>3</th>\n",
       "      <td>1.237650e+18</td>\n",
       "      <td>183.870529</td>\n",
       "      <td>0.049911</td>\n",
       "      <td>17.76536</td>\n",
       "      <td>16.60272</td>\n",
       "      <td>16.16116</td>\n",
       "      <td>15.98233</td>\n",
       "      <td>15.90438</td>\n",
       "      <td>752</td>\n",
       "      <td>301</td>\n",
       "      <td>4</td>\n",
       "      <td>269</td>\n",
       "      <td>3.722370e+18</td>\n",
       "      <td>STAR</td>\n",
       "      <td>-0.000111</td>\n",
       "      <td>3306</td>\n",
       "      <td>54922</td>\n",
       "      <td>510</td>\n",
       "    </tr>\n",
       "    <tr>\n",
       "      <th>4</th>\n",
       "      <td>1.237650e+18</td>\n",
       "      <td>183.883288</td>\n",
       "      <td>0.102557</td>\n",
       "      <td>17.55025</td>\n",
       "      <td>16.26342</td>\n",
       "      <td>16.43869</td>\n",
       "      <td>16.55492</td>\n",
       "      <td>16.61326</td>\n",
       "      <td>752</td>\n",
       "      <td>301</td>\n",
       "      <td>4</td>\n",
       "      <td>269</td>\n",
       "      <td>3.722370e+18</td>\n",
       "      <td>STAR</td>\n",
       "      <td>0.000590</td>\n",
       "      <td>3306</td>\n",
       "      <td>54922</td>\n",
       "      <td>512</td>\n",
       "    </tr>\n",
       "  </tbody>\n",
       "</table>\n",
       "</div>"
      ],
      "text/plain": [
       "          objid          ra       dec         u         g         r         i  \\\n",
       "0  1.237650e+18  183.531326  0.089693  19.47406  17.04240  15.94699  15.50342   \n",
       "1  1.237650e+18  183.598370  0.135285  18.66280  17.21449  16.67637  16.48922   \n",
       "2  1.237650e+18  183.680207  0.126185  19.38298  18.19169  17.47428  17.08732   \n",
       "3  1.237650e+18  183.870529  0.049911  17.76536  16.60272  16.16116  15.98233   \n",
       "4  1.237650e+18  183.883288  0.102557  17.55025  16.26342  16.43869  16.55492   \n",
       "\n",
       "          z  run  rerun  camcol  field     specobjid   class  redshift  plate  \\\n",
       "0  15.22531  752    301       4    267  3.722360e+18    STAR -0.000009   3306   \n",
       "1  16.39150  752    301       4    267  3.638140e+17    STAR -0.000055    323   \n",
       "2  16.80125  752    301       4    268  3.232740e+17  GALAXY  0.123111    287   \n",
       "3  15.90438  752    301       4    269  3.722370e+18    STAR -0.000111   3306   \n",
       "4  16.61326  752    301       4    269  3.722370e+18    STAR  0.000590   3306   \n",
       "\n",
       "     mjd  fiberid  \n",
       "0  54922      491  \n",
       "1  51615      541  \n",
       "2  52023      513  \n",
       "3  54922      510  \n",
       "4  54922      512  "
      ]
     },
     "execution_count": 6,
     "metadata": {},
     "output_type": "execute_result"
    }
   ],
   "source": [
    "dataset.head()"
   ]
  },
  {
   "cell_type": "code",
   "execution_count": 7,
   "metadata": {},
   "outputs": [
    {
     "data": {
      "text/html": [
       "<div>\n",
       "<style scoped>\n",
       "    .dataframe tbody tr th:only-of-type {\n",
       "        vertical-align: middle;\n",
       "    }\n",
       "\n",
       "    .dataframe tbody tr th {\n",
       "        vertical-align: top;\n",
       "    }\n",
       "\n",
       "    .dataframe thead th {\n",
       "        text-align: right;\n",
       "    }\n",
       "</style>\n",
       "<table border=\"1\" class=\"dataframe\">\n",
       "  <thead>\n",
       "    <tr style=\"text-align: right;\">\n",
       "      <th></th>\n",
       "      <th>objid</th>\n",
       "      <th>ra</th>\n",
       "      <th>dec</th>\n",
       "      <th>u</th>\n",
       "      <th>g</th>\n",
       "      <th>r</th>\n",
       "      <th>i</th>\n",
       "      <th>z</th>\n",
       "      <th>run</th>\n",
       "      <th>rerun</th>\n",
       "      <th>camcol</th>\n",
       "      <th>field</th>\n",
       "      <th>specobjid</th>\n",
       "      <th>class</th>\n",
       "      <th>redshift</th>\n",
       "      <th>plate</th>\n",
       "      <th>mjd</th>\n",
       "      <th>fiberid</th>\n",
       "    </tr>\n",
       "  </thead>\n",
       "  <tbody>\n",
       "    <tr>\n",
       "      <th>9995</th>\n",
       "      <td>1.237650e+18</td>\n",
       "      <td>131.316413</td>\n",
       "      <td>51.539547</td>\n",
       "      <td>18.81777</td>\n",
       "      <td>17.47053</td>\n",
       "      <td>16.91508</td>\n",
       "      <td>16.68305</td>\n",
       "      <td>16.50570</td>\n",
       "      <td>1345</td>\n",
       "      <td>301</td>\n",
       "      <td>3</td>\n",
       "      <td>161</td>\n",
       "      <td>5.033450e+17</td>\n",
       "      <td>GALAXY</td>\n",
       "      <td>0.027583</td>\n",
       "      <td>447</td>\n",
       "      <td>51877</td>\n",
       "      <td>246</td>\n",
       "    </tr>\n",
       "    <tr>\n",
       "      <th>9996</th>\n",
       "      <td>1.237650e+18</td>\n",
       "      <td>131.306083</td>\n",
       "      <td>51.671341</td>\n",
       "      <td>18.27255</td>\n",
       "      <td>17.43849</td>\n",
       "      <td>17.07692</td>\n",
       "      <td>16.71661</td>\n",
       "      <td>16.69897</td>\n",
       "      <td>1345</td>\n",
       "      <td>301</td>\n",
       "      <td>3</td>\n",
       "      <td>162</td>\n",
       "      <td>5.033400e+17</td>\n",
       "      <td>GALAXY</td>\n",
       "      <td>0.117772</td>\n",
       "      <td>447</td>\n",
       "      <td>51877</td>\n",
       "      <td>228</td>\n",
       "    </tr>\n",
       "    <tr>\n",
       "      <th>9997</th>\n",
       "      <td>1.237650e+18</td>\n",
       "      <td>131.552562</td>\n",
       "      <td>51.666986</td>\n",
       "      <td>18.75818</td>\n",
       "      <td>17.77784</td>\n",
       "      <td>17.51872</td>\n",
       "      <td>17.43302</td>\n",
       "      <td>17.42048</td>\n",
       "      <td>1345</td>\n",
       "      <td>301</td>\n",
       "      <td>3</td>\n",
       "      <td>162</td>\n",
       "      <td>8.222620e+18</td>\n",
       "      <td>STAR</td>\n",
       "      <td>-0.000402</td>\n",
       "      <td>7303</td>\n",
       "      <td>57013</td>\n",
       "      <td>622</td>\n",
       "    </tr>\n",
       "    <tr>\n",
       "      <th>9998</th>\n",
       "      <td>1.237650e+18</td>\n",
       "      <td>131.477151</td>\n",
       "      <td>51.753068</td>\n",
       "      <td>18.88287</td>\n",
       "      <td>17.91068</td>\n",
       "      <td>17.53152</td>\n",
       "      <td>17.36284</td>\n",
       "      <td>17.13988</td>\n",
       "      <td>1345</td>\n",
       "      <td>301</td>\n",
       "      <td>3</td>\n",
       "      <td>163</td>\n",
       "      <td>5.033400e+17</td>\n",
       "      <td>GALAXY</td>\n",
       "      <td>0.014019</td>\n",
       "      <td>447</td>\n",
       "      <td>51877</td>\n",
       "      <td>229</td>\n",
       "    </tr>\n",
       "    <tr>\n",
       "      <th>9999</th>\n",
       "      <td>1.237650e+18</td>\n",
       "      <td>131.665012</td>\n",
       "      <td>51.805307</td>\n",
       "      <td>19.27586</td>\n",
       "      <td>17.37829</td>\n",
       "      <td>16.30542</td>\n",
       "      <td>15.83548</td>\n",
       "      <td>15.50588</td>\n",
       "      <td>1345</td>\n",
       "      <td>301</td>\n",
       "      <td>3</td>\n",
       "      <td>163</td>\n",
       "      <td>5.033410e+17</td>\n",
       "      <td>GALAXY</td>\n",
       "      <td>0.118417</td>\n",
       "      <td>447</td>\n",
       "      <td>51877</td>\n",
       "      <td>233</td>\n",
       "    </tr>\n",
       "  </tbody>\n",
       "</table>\n",
       "</div>"
      ],
      "text/plain": [
       "             objid          ra        dec         u         g         r  \\\n",
       "9995  1.237650e+18  131.316413  51.539547  18.81777  17.47053  16.91508   \n",
       "9996  1.237650e+18  131.306083  51.671341  18.27255  17.43849  17.07692   \n",
       "9997  1.237650e+18  131.552562  51.666986  18.75818  17.77784  17.51872   \n",
       "9998  1.237650e+18  131.477151  51.753068  18.88287  17.91068  17.53152   \n",
       "9999  1.237650e+18  131.665012  51.805307  19.27586  17.37829  16.30542   \n",
       "\n",
       "             i         z   run  rerun  camcol  field     specobjid   class  \\\n",
       "9995  16.68305  16.50570  1345    301       3    161  5.033450e+17  GALAXY   \n",
       "9996  16.71661  16.69897  1345    301       3    162  5.033400e+17  GALAXY   \n",
       "9997  17.43302  17.42048  1345    301       3    162  8.222620e+18    STAR   \n",
       "9998  17.36284  17.13988  1345    301       3    163  5.033400e+17  GALAXY   \n",
       "9999  15.83548  15.50588  1345    301       3    163  5.033410e+17  GALAXY   \n",
       "\n",
       "      redshift  plate    mjd  fiberid  \n",
       "9995  0.027583    447  51877      246  \n",
       "9996  0.117772    447  51877      228  \n",
       "9997 -0.000402   7303  57013      622  \n",
       "9998  0.014019    447  51877      229  \n",
       "9999  0.118417    447  51877      233  "
      ]
     },
     "execution_count": 7,
     "metadata": {},
     "output_type": "execute_result"
    }
   ],
   "source": [
    "dataset.tail()"
   ]
  },
  {
   "cell_type": "code",
   "execution_count": 8,
   "metadata": {},
   "outputs": [
    {
     "data": {
      "text/plain": [
       "objid        0\n",
       "ra           0\n",
       "dec          0\n",
       "u            0\n",
       "g            0\n",
       "r            0\n",
       "i            0\n",
       "z            0\n",
       "run          0\n",
       "rerun        0\n",
       "camcol       0\n",
       "field        0\n",
       "specobjid    0\n",
       "class        0\n",
       "redshift     0\n",
       "plate        0\n",
       "mjd          0\n",
       "fiberid      0\n",
       "dtype: int64"
      ]
     },
     "execution_count": 8,
     "metadata": {},
     "output_type": "execute_result"
    }
   ],
   "source": [
    "dataset.isnull().sum()"
   ]
  },
  {
   "cell_type": "code",
   "execution_count": 9,
   "metadata": {},
   "outputs": [
    {
     "data": {
      "text/plain": [
       "objid        float64\n",
       "ra           float64\n",
       "dec          float64\n",
       "u            float64\n",
       "g            float64\n",
       "r            float64\n",
       "i            float64\n",
       "z            float64\n",
       "run            int64\n",
       "rerun          int64\n",
       "camcol         int64\n",
       "field          int64\n",
       "specobjid    float64\n",
       "class         object\n",
       "redshift     float64\n",
       "plate          int64\n",
       "mjd            int64\n",
       "fiberid        int64\n",
       "dtype: object"
      ]
     },
     "execution_count": 9,
     "metadata": {},
     "output_type": "execute_result"
    }
   ],
   "source": [
    "dataset.dtypes"
   ]
  },
  {
   "cell_type": "code",
   "execution_count": 10,
   "metadata": {},
   "outputs": [
    {
     "name": "stdout",
     "output_type": "stream",
     "text": [
      "<class 'pandas.core.frame.DataFrame'>\n",
      "RangeIndex: 10000 entries, 0 to 9999\n",
      "Data columns (total 18 columns):\n",
      " #   Column     Non-Null Count  Dtype  \n",
      "---  ------     --------------  -----  \n",
      " 0   objid      10000 non-null  float64\n",
      " 1   ra         10000 non-null  float64\n",
      " 2   dec        10000 non-null  float64\n",
      " 3   u          10000 non-null  float64\n",
      " 4   g          10000 non-null  float64\n",
      " 5   r          10000 non-null  float64\n",
      " 6   i          10000 non-null  float64\n",
      " 7   z          10000 non-null  float64\n",
      " 8   run        10000 non-null  int64  \n",
      " 9   rerun      10000 non-null  int64  \n",
      " 10  camcol     10000 non-null  int64  \n",
      " 11  field      10000 non-null  int64  \n",
      " 12  specobjid  10000 non-null  float64\n",
      " 13  class      10000 non-null  object \n",
      " 14  redshift   10000 non-null  float64\n",
      " 15  plate      10000 non-null  int64  \n",
      " 16  mjd        10000 non-null  int64  \n",
      " 17  fiberid    10000 non-null  int64  \n",
      "dtypes: float64(10), int64(7), object(1)\n",
      "memory usage: 1.4+ MB\n"
     ]
    }
   ],
   "source": [
    "dataset.info()"
   ]
  },
  {
   "cell_type": "code",
   "execution_count": 11,
   "metadata": {},
   "outputs": [
    {
     "data": {
      "text/plain": [
       "Index(['objid', 'ra', 'dec', 'u', 'g', 'r', 'i', 'z', 'run', 'rerun', 'camcol',\n",
       "       'field', 'specobjid', 'class', 'redshift', 'plate', 'mjd', 'fiberid'],\n",
       "      dtype='object')"
      ]
     },
     "execution_count": 11,
     "metadata": {},
     "output_type": "execute_result"
    }
   ],
   "source": [
    "dataset.columns"
   ]
  },
  {
   "cell_type": "code",
   "execution_count": 12,
   "metadata": {},
   "outputs": [
    {
     "data": {
      "text/html": [
       "<div>\n",
       "<style scoped>\n",
       "    .dataframe tbody tr th:only-of-type {\n",
       "        vertical-align: middle;\n",
       "    }\n",
       "\n",
       "    .dataframe tbody tr th {\n",
       "        vertical-align: top;\n",
       "    }\n",
       "\n",
       "    .dataframe thead th {\n",
       "        text-align: right;\n",
       "    }\n",
       "</style>\n",
       "<table border=\"1\" class=\"dataframe\">\n",
       "  <thead>\n",
       "    <tr style=\"text-align: right;\">\n",
       "      <th></th>\n",
       "      <th>objid</th>\n",
       "      <th>ra</th>\n",
       "      <th>dec</th>\n",
       "      <th>u</th>\n",
       "      <th>g</th>\n",
       "      <th>r</th>\n",
       "      <th>i</th>\n",
       "      <th>z</th>\n",
       "      <th>run</th>\n",
       "      <th>rerun</th>\n",
       "      <th>camcol</th>\n",
       "      <th>field</th>\n",
       "      <th>specobjid</th>\n",
       "      <th>class</th>\n",
       "      <th>redshift</th>\n",
       "      <th>plate</th>\n",
       "      <th>mjd</th>\n",
       "      <th>fiberid</th>\n",
       "    </tr>\n",
       "  </thead>\n",
       "  <tbody>\n",
       "    <tr>\n",
       "      <th>0</th>\n",
       "      <td>1.237650e+18</td>\n",
       "      <td>183.531326</td>\n",
       "      <td>0.089693</td>\n",
       "      <td>19.47406</td>\n",
       "      <td>17.04240</td>\n",
       "      <td>15.94699</td>\n",
       "      <td>15.50342</td>\n",
       "      <td>15.22531</td>\n",
       "      <td>752</td>\n",
       "      <td>301</td>\n",
       "      <td>4</td>\n",
       "      <td>267</td>\n",
       "      <td>3.722360e+18</td>\n",
       "      <td>STAR</td>\n",
       "      <td>-0.000009</td>\n",
       "      <td>3306</td>\n",
       "      <td>54922</td>\n",
       "      <td>491</td>\n",
       "    </tr>\n",
       "    <tr>\n",
       "      <th>1</th>\n",
       "      <td>1.237650e+18</td>\n",
       "      <td>183.598370</td>\n",
       "      <td>0.135285</td>\n",
       "      <td>18.66280</td>\n",
       "      <td>17.21449</td>\n",
       "      <td>16.67637</td>\n",
       "      <td>16.48922</td>\n",
       "      <td>16.39150</td>\n",
       "      <td>752</td>\n",
       "      <td>301</td>\n",
       "      <td>4</td>\n",
       "      <td>267</td>\n",
       "      <td>3.638140e+17</td>\n",
       "      <td>STAR</td>\n",
       "      <td>-0.000055</td>\n",
       "      <td>323</td>\n",
       "      <td>51615</td>\n",
       "      <td>541</td>\n",
       "    </tr>\n",
       "    <tr>\n",
       "      <th>2</th>\n",
       "      <td>1.237650e+18</td>\n",
       "      <td>183.680207</td>\n",
       "      <td>0.126185</td>\n",
       "      <td>19.38298</td>\n",
       "      <td>18.19169</td>\n",
       "      <td>17.47428</td>\n",
       "      <td>17.08732</td>\n",
       "      <td>16.80125</td>\n",
       "      <td>752</td>\n",
       "      <td>301</td>\n",
       "      <td>4</td>\n",
       "      <td>268</td>\n",
       "      <td>3.232740e+17</td>\n",
       "      <td>GALAXY</td>\n",
       "      <td>0.123111</td>\n",
       "      <td>287</td>\n",
       "      <td>52023</td>\n",
       "      <td>513</td>\n",
       "    </tr>\n",
       "    <tr>\n",
       "      <th>3</th>\n",
       "      <td>1.237650e+18</td>\n",
       "      <td>183.870529</td>\n",
       "      <td>0.049911</td>\n",
       "      <td>17.76536</td>\n",
       "      <td>16.60272</td>\n",
       "      <td>16.16116</td>\n",
       "      <td>15.98233</td>\n",
       "      <td>15.90438</td>\n",
       "      <td>752</td>\n",
       "      <td>301</td>\n",
       "      <td>4</td>\n",
       "      <td>269</td>\n",
       "      <td>3.722370e+18</td>\n",
       "      <td>STAR</td>\n",
       "      <td>-0.000111</td>\n",
       "      <td>3306</td>\n",
       "      <td>54922</td>\n",
       "      <td>510</td>\n",
       "    </tr>\n",
       "    <tr>\n",
       "      <th>4</th>\n",
       "      <td>1.237650e+18</td>\n",
       "      <td>183.883288</td>\n",
       "      <td>0.102557</td>\n",
       "      <td>17.55025</td>\n",
       "      <td>16.26342</td>\n",
       "      <td>16.43869</td>\n",
       "      <td>16.55492</td>\n",
       "      <td>16.61326</td>\n",
       "      <td>752</td>\n",
       "      <td>301</td>\n",
       "      <td>4</td>\n",
       "      <td>269</td>\n",
       "      <td>3.722370e+18</td>\n",
       "      <td>STAR</td>\n",
       "      <td>0.000590</td>\n",
       "      <td>3306</td>\n",
       "      <td>54922</td>\n",
       "      <td>512</td>\n",
       "    </tr>\n",
       "    <tr>\n",
       "      <th>...</th>\n",
       "      <td>...</td>\n",
       "      <td>...</td>\n",
       "      <td>...</td>\n",
       "      <td>...</td>\n",
       "      <td>...</td>\n",
       "      <td>...</td>\n",
       "      <td>...</td>\n",
       "      <td>...</td>\n",
       "      <td>...</td>\n",
       "      <td>...</td>\n",
       "      <td>...</td>\n",
       "      <td>...</td>\n",
       "      <td>...</td>\n",
       "      <td>...</td>\n",
       "      <td>...</td>\n",
       "      <td>...</td>\n",
       "      <td>...</td>\n",
       "      <td>...</td>\n",
       "    </tr>\n",
       "    <tr>\n",
       "      <th>9995</th>\n",
       "      <td>1.237650e+18</td>\n",
       "      <td>131.316413</td>\n",
       "      <td>51.539547</td>\n",
       "      <td>18.81777</td>\n",
       "      <td>17.47053</td>\n",
       "      <td>16.91508</td>\n",
       "      <td>16.68305</td>\n",
       "      <td>16.50570</td>\n",
       "      <td>1345</td>\n",
       "      <td>301</td>\n",
       "      <td>3</td>\n",
       "      <td>161</td>\n",
       "      <td>5.033450e+17</td>\n",
       "      <td>GALAXY</td>\n",
       "      <td>0.027583</td>\n",
       "      <td>447</td>\n",
       "      <td>51877</td>\n",
       "      <td>246</td>\n",
       "    </tr>\n",
       "    <tr>\n",
       "      <th>9996</th>\n",
       "      <td>1.237650e+18</td>\n",
       "      <td>131.306083</td>\n",
       "      <td>51.671341</td>\n",
       "      <td>18.27255</td>\n",
       "      <td>17.43849</td>\n",
       "      <td>17.07692</td>\n",
       "      <td>16.71661</td>\n",
       "      <td>16.69897</td>\n",
       "      <td>1345</td>\n",
       "      <td>301</td>\n",
       "      <td>3</td>\n",
       "      <td>162</td>\n",
       "      <td>5.033400e+17</td>\n",
       "      <td>GALAXY</td>\n",
       "      <td>0.117772</td>\n",
       "      <td>447</td>\n",
       "      <td>51877</td>\n",
       "      <td>228</td>\n",
       "    </tr>\n",
       "    <tr>\n",
       "      <th>9997</th>\n",
       "      <td>1.237650e+18</td>\n",
       "      <td>131.552562</td>\n",
       "      <td>51.666986</td>\n",
       "      <td>18.75818</td>\n",
       "      <td>17.77784</td>\n",
       "      <td>17.51872</td>\n",
       "      <td>17.43302</td>\n",
       "      <td>17.42048</td>\n",
       "      <td>1345</td>\n",
       "      <td>301</td>\n",
       "      <td>3</td>\n",
       "      <td>162</td>\n",
       "      <td>8.222620e+18</td>\n",
       "      <td>STAR</td>\n",
       "      <td>-0.000402</td>\n",
       "      <td>7303</td>\n",
       "      <td>57013</td>\n",
       "      <td>622</td>\n",
       "    </tr>\n",
       "    <tr>\n",
       "      <th>9998</th>\n",
       "      <td>1.237650e+18</td>\n",
       "      <td>131.477151</td>\n",
       "      <td>51.753068</td>\n",
       "      <td>18.88287</td>\n",
       "      <td>17.91068</td>\n",
       "      <td>17.53152</td>\n",
       "      <td>17.36284</td>\n",
       "      <td>17.13988</td>\n",
       "      <td>1345</td>\n",
       "      <td>301</td>\n",
       "      <td>3</td>\n",
       "      <td>163</td>\n",
       "      <td>5.033400e+17</td>\n",
       "      <td>GALAXY</td>\n",
       "      <td>0.014019</td>\n",
       "      <td>447</td>\n",
       "      <td>51877</td>\n",
       "      <td>229</td>\n",
       "    </tr>\n",
       "    <tr>\n",
       "      <th>9999</th>\n",
       "      <td>1.237650e+18</td>\n",
       "      <td>131.665012</td>\n",
       "      <td>51.805307</td>\n",
       "      <td>19.27586</td>\n",
       "      <td>17.37829</td>\n",
       "      <td>16.30542</td>\n",
       "      <td>15.83548</td>\n",
       "      <td>15.50588</td>\n",
       "      <td>1345</td>\n",
       "      <td>301</td>\n",
       "      <td>3</td>\n",
       "      <td>163</td>\n",
       "      <td>5.033410e+17</td>\n",
       "      <td>GALAXY</td>\n",
       "      <td>0.118417</td>\n",
       "      <td>447</td>\n",
       "      <td>51877</td>\n",
       "      <td>233</td>\n",
       "    </tr>\n",
       "  </tbody>\n",
       "</table>\n",
       "<p>10000 rows × 18 columns</p>\n",
       "</div>"
      ],
      "text/plain": [
       "             objid          ra        dec         u         g         r  \\\n",
       "0     1.237650e+18  183.531326   0.089693  19.47406  17.04240  15.94699   \n",
       "1     1.237650e+18  183.598370   0.135285  18.66280  17.21449  16.67637   \n",
       "2     1.237650e+18  183.680207   0.126185  19.38298  18.19169  17.47428   \n",
       "3     1.237650e+18  183.870529   0.049911  17.76536  16.60272  16.16116   \n",
       "4     1.237650e+18  183.883288   0.102557  17.55025  16.26342  16.43869   \n",
       "...            ...         ...        ...       ...       ...       ...   \n",
       "9995  1.237650e+18  131.316413  51.539547  18.81777  17.47053  16.91508   \n",
       "9996  1.237650e+18  131.306083  51.671341  18.27255  17.43849  17.07692   \n",
       "9997  1.237650e+18  131.552562  51.666986  18.75818  17.77784  17.51872   \n",
       "9998  1.237650e+18  131.477151  51.753068  18.88287  17.91068  17.53152   \n",
       "9999  1.237650e+18  131.665012  51.805307  19.27586  17.37829  16.30542   \n",
       "\n",
       "             i         z   run  rerun  camcol  field     specobjid   class  \\\n",
       "0     15.50342  15.22531   752    301       4    267  3.722360e+18    STAR   \n",
       "1     16.48922  16.39150   752    301       4    267  3.638140e+17    STAR   \n",
       "2     17.08732  16.80125   752    301       4    268  3.232740e+17  GALAXY   \n",
       "3     15.98233  15.90438   752    301       4    269  3.722370e+18    STAR   \n",
       "4     16.55492  16.61326   752    301       4    269  3.722370e+18    STAR   \n",
       "...        ...       ...   ...    ...     ...    ...           ...     ...   \n",
       "9995  16.68305  16.50570  1345    301       3    161  5.033450e+17  GALAXY   \n",
       "9996  16.71661  16.69897  1345    301       3    162  5.033400e+17  GALAXY   \n",
       "9997  17.43302  17.42048  1345    301       3    162  8.222620e+18    STAR   \n",
       "9998  17.36284  17.13988  1345    301       3    163  5.033400e+17  GALAXY   \n",
       "9999  15.83548  15.50588  1345    301       3    163  5.033410e+17  GALAXY   \n",
       "\n",
       "      redshift  plate    mjd  fiberid  \n",
       "0    -0.000009   3306  54922      491  \n",
       "1    -0.000055    323  51615      541  \n",
       "2     0.123111    287  52023      513  \n",
       "3    -0.000111   3306  54922      510  \n",
       "4     0.000590   3306  54922      512  \n",
       "...        ...    ...    ...      ...  \n",
       "9995  0.027583    447  51877      246  \n",
       "9996  0.117772    447  51877      228  \n",
       "9997 -0.000402   7303  57013      622  \n",
       "9998  0.014019    447  51877      229  \n",
       "9999  0.118417    447  51877      233  \n",
       "\n",
       "[10000 rows x 18 columns]"
      ]
     },
     "execution_count": 12,
     "metadata": {},
     "output_type": "execute_result"
    }
   ],
   "source": [
    "dataset.shape\n",
    "dataset.dropna()"
   ]
  },
  {
   "cell_type": "markdown",
   "metadata": {},
   "source": [
    "Convert to dataframe for manipulation"
   ]
  },
  {
   "cell_type": "code",
   "execution_count": 3,
   "metadata": {},
   "outputs": [],
   "source": [
    "#dataset = sklearn.utils.shuffle(dataset)\n",
    "\n",
    "df = pd.DataFrame(dataset)"
   ]
  },
  {
   "cell_type": "markdown",
   "metadata": {},
   "source": [
    "Relabel class values to integers for training (strings are not supported)"
   ]
  },
  {
   "cell_type": "code",
   "execution_count": 4,
   "metadata": {},
   "outputs": [
    {
     "name": "stdout",
     "output_type": "stream",
     "text": [
      "GALAXY    4998\n",
      "STAR      4152\n",
      "QSO        850\n",
      "Name: class, dtype: int64\n"
     ]
    }
   ],
   "source": [
    "print(df['class'].value_counts())\n",
    "# Replace celestial body class with:\n",
    "# 0: GALAXY\n",
    "# 1: STAR\n",
    "# 2: QSO\n",
    "df['class'] = df['class'].replace(to_replace='GALAXY' , value=0)\n",
    "\n",
    "df['class'] = df['class'].replace(to_replace='STAR' , value=1)\n",
    "\n",
    "df['class'] = df['class'].replace(to_replace='QSO' , value=2)\n",
    "\n"
   ]
  },
  {
   "cell_type": "markdown",
   "metadata": {},
   "source": [
    "Drop columns that are not needed for the training and later classification of our model"
   ]
  },
  {
   "cell_type": "code",
   "execution_count": 5,
   "metadata": {},
   "outputs": [],
   "source": [
    "df.drop(columns = ['objid', 'rerun', 'field', 'specobjid', 'plate', 'mjd', 'fiberid'], inplace=True)"
   ]
  },
  {
   "cell_type": "code",
   "execution_count": 51,
   "metadata": {},
   "outputs": [
    {
     "name": "stdout",
     "output_type": "stream",
     "text": [
      "(8000, 10)\n",
      "(2000, 10)\n",
      "(8000,)\n",
      "(2000,)\n"
     ]
    }
   ],
   "source": [
    "from os import X_OK\n",
    "\n",
    "\n",
    "x = df.drop(labels='class', axis=1)\n",
    "y = df['class']\n",
    "(X_train, X_test, y_train, y_test) = ms.train_test_split(x, y, test_size=.2, random_state=0) \n",
    "\n",
    "print(X_train.shape)\n",
    "\n",
    "print(X_test.shape)\n",
    "\n",
    "print(y_train.shape)\n",
    "\n",
    "print(y_test.shape)"
   ]
  },
  {
   "cell_type": "code",
   "execution_count": 17,
   "metadata": {},
   "outputs": [
    {
     "name": "stdout",
     "output_type": "stream",
     "text": [
      "\n",
      "ACCURACY OF THE MODEL:  0.986\n",
      "RandomForestClassifierModel Train Score is :  1.0\n",
      "RandomForestClassifierModel Test Score is :  0.986\n"
     ]
    }
   ],
   "source": [
    "from sklearn.ensemble import RandomForestClassifier\n",
    "\n",
    "\n",
    "clf = RandomForestClassifier(n_estimators = 100) \n",
    "\n",
    "# Training the model on the training dataset\n",
    "# fit function is used to train the model using the training sets as parameters\n",
    "clf.fit(X_train, y_train)\n",
    " \n",
    "# performing predictions on the test dataset\n",
    "y_pred = clf.predict(X_test)\n",
    " \n",
    "# metrics are used to find accuracy or error\n",
    "from sklearn import metrics \n",
    "print()\n",
    "\n",
    "# using metrics module for accuracy calculation\n",
    "print(\"ACCURACY OF THE MODEL: \", metrics.accuracy_score(y_test, y_pred))\n",
    "print('RandomForestClassifierModel Train Score is : ' , clf.score(X_train, y_train))\n",
    "print('RandomForestClassifierModel Test Score is : ' , clf.score(X_test, y_test))"
   ]
  },
  {
   "cell_type": "markdown",
   "metadata": {},
   "source": [
    "Confusion Matrix"
   ]
  },
  {
   "cell_type": "code",
   "execution_count": 18,
   "metadata": {},
   "outputs": [
    {
     "data": {
      "image/png": "[encoded data removed]",
      "text/plain": [
       "<Figure size 432x288 with 2 Axes>"
      ]
     },
     "metadata": {
      "needs_background": "light"
     },
     "output_type": "display_data"
    },
    {
     "name": "stdout",
     "output_type": "stream",
     "text": [
      "Confusion Matrix is\n",
      " [[256   3   0]\n",
      " [  0 196   0]\n",
      " [  4   0  41]]\n"
     ]
    }
   ],
   "source": [
    "from sklearn.metrics import confusion_matrix\n",
    "import seaborn as sns\n",
    "y_pred_RF = clf.predict(X_test)\n",
    "CM_RF = confusion_matrix(y_test, y_pred_RF)\n",
    "\n",
    "sns.heatmap(CM_RF, center=True)\n",
    "plt.show()\n",
    "\n",
    "print('Confusion Matrix is\\n', CM_RF)\n",
    "\n"
   ]
  },
  {
   "cell_type": "markdown",
   "metadata": {},
   "source": [
    "Cross validation of the model"
   ]
  },
  {
   "cell_type": "code",
   "execution_count": 19,
   "metadata": {},
   "outputs": [
    {
     "data": {
      "text/plain": [
       "array([0.9905, 0.9925, 0.9925, 0.984 , 0.988 ])"
      ]
     },
     "execution_count": 19,
     "metadata": {},
     "output_type": "execute_result"
    }
   ],
   "source": [
    "ms.cross_val_score(clf, x, y, cv=5)"
   ]
  },
  {
   "cell_type": "markdown",
   "metadata": {},
   "source": [
    "### Simple Neural Newtork Approach"
   ]
  },
  {
   "cell_type": "code",
   "execution_count": 8,
   "metadata": {},
   "outputs": [
    {
     "name": "stdout",
     "output_type": "stream",
     "text": [
      "TensorFlow version: 2.10.0\n"
     ]
    }
   ],
   "source": [
    "import tensorflow as tf\n",
    "\n",
    "print(\"TensorFlow version:\", tf.__version__)\n"
   ]
  },
  {
   "cell_type": "markdown",
   "metadata": {},
   "source": [
    "Define NN model architecture"
   ]
  },
  {
   "cell_type": "code",
   "execution_count": 54,
   "metadata": {},
   "outputs": [
    {
     "name": "stdout",
     "output_type": "stream",
     "text": [
      "(8000, 10)\n",
      "Model: \"sequential_12\"\n",
      "_________________________________________________________________\n",
      " Layer (type)                Output Shape              Param #   \n",
      "=================================================================\n",
      " flatten_12 (Flatten)        (None, 10)                0         \n",
      "                                                                 \n",
      " dense_36 (Dense)            (None, 10)                110       \n",
      "                                                                 \n",
      " dense_37 (Dense)            (None, 8)                 88        \n",
      "                                                                 \n",
      " dense_38 (Dense)            (None, 4)                 36        \n",
      "                                                                 \n",
      "=================================================================\n",
      "Total params: 234\n",
      "Trainable params: 234\n",
      "Non-trainable params: 0\n",
      "_________________________________________________________________\n"
     ]
    }
   ],
   "source": [
    "loss_fn = tf.keras.losses.SparseCategoricalCrossentropy(from_logits=False)\n",
    "opt = tf.keras.optimizers.Adam()\n",
    "\n",
    "early_stop_cb =tf.keras.callbacks.EarlyStopping(\n",
    "    monitor=\"val_loss\",\n",
    "    min_delta=0,\n",
    "    patience=10,\n",
    "    verbose=0,\n",
    "    mode=\"auto\",\n",
    "    baseline=None,\n",
    "    restore_best_weights=False,\n",
    ")\n",
    "\n",
    "print(X_train.shape)\n",
    "\n",
    "model = tf.keras.models.Sequential([\n",
    "  tf.keras.layers.Flatten(input_shape=(10,)),\n",
    "  #tf.keras.layers.Dense(128, activation='relu'),\n",
    "  #tf.keras.layers.Dense(64, activation='relu'),\n",
    "  #tf.keras.layers.Dense(32, activation='relu'),\n",
    "  tf.keras.layers.Dense(10, activation='relu'),\n",
    "  tf.keras.layers.Dense(8, activation='relu'),\n",
    "  tf.keras.layers.Dense(4, activation='softmax')\n",
    "])\n",
    "\n",
    "model.compile(optimizer=opt,\n",
    "              loss=loss_fn,\n",
    "              metrics=['accuracy'])\n",
    "\n",
    "model.summary()"
   ]
  },
  {
   "cell_type": "code",
   "execution_count": 53,
   "metadata": {},
   "outputs": [
    {
     "name": "stdout",
     "output_type": "stream",
     "text": [
      "Epoch 1/200\n"
     ]
    },
    {
     "name": "stderr",
     "output_type": "stream",
     "text": [
      "c:\\Users\\Alex\\AppData\\Local\\Programs\\Python\\Python39\\lib\\site-packages\\keras\\engine\\data_adapter.py:1699: FutureWarning: The behavior of `series[i:j]` with an integer-dtype index is deprecated. In a future version, this will be treated as *label-based* indexing, consistent with e.g. `series[i]` lookups. To retain the old behavior, use `series.iloc[i:j]`. To get the future behavior, use `series.loc[i:j]`.\n",
      "  return t[start:end]\n"
     ]
    },
    {
     "name": "stdout",
     "output_type": "stream",
     "text": [
      "88/88 [==============================] - 1s 6ms/step - loss: 74.5690 - accuracy: 0.4732 - val_loss: 26.2337 - val_accuracy: 0.4492\n",
      "Epoch 2/200\n",
      "88/88 [==============================] - 0s 3ms/step - loss: 17.9812 - accuracy: 0.4607 - val_loss: 10.1822 - val_accuracy: 0.4479\n",
      "Epoch 3/200\n",
      "88/88 [==============================] - 0s 3ms/step - loss: 6.7481 - accuracy: 0.4332 - val_loss: 4.6337 - val_accuracy: 0.4346\n",
      "Epoch 4/200\n",
      "88/88 [==============================] - 0s 3ms/step - loss: 3.0977 - accuracy: 0.4534 - val_loss: 1.4592 - val_accuracy: 0.4425\n",
      "Epoch 5/200\n",
      "88/88 [==============================] - 0s 3ms/step - loss: 1.2808 - accuracy: 0.4700 - val_loss: 1.0870 - val_accuracy: 0.4796\n",
      "Epoch 6/200\n",
      "88/88 [==============================] - 0s 3ms/step - loss: 1.0676 - accuracy: 0.4789 - val_loss: 1.1813 - val_accuracy: 0.4242\n",
      "Epoch 7/200\n",
      "88/88 [==============================] - 0s 3ms/step - loss: 1.0211 - accuracy: 0.4818 - val_loss: 0.9338 - val_accuracy: 0.5450\n",
      "Epoch 8/200\n",
      "88/88 [==============================] - 0s 3ms/step - loss: 0.9900 - accuracy: 0.4963 - val_loss: 1.1977 - val_accuracy: 0.4238\n",
      "Epoch 9/200\n",
      "88/88 [==============================] - 0s 3ms/step - loss: 0.9938 - accuracy: 0.4791 - val_loss: 0.9144 - val_accuracy: 0.5233\n",
      "Epoch 10/200\n",
      "88/88 [==============================] - 0s 3ms/step - loss: 0.9556 - accuracy: 0.5100 - val_loss: 0.9028 - val_accuracy: 0.6008\n",
      "Epoch 11/200\n",
      "88/88 [==============================] - 0s 3ms/step - loss: 0.9610 - accuracy: 0.4961 - val_loss: 0.8982 - val_accuracy: 0.5808\n",
      "Epoch 12/200\n",
      "88/88 [==============================] - 0s 3ms/step - loss: 0.9511 - accuracy: 0.5000 - val_loss: 0.8997 - val_accuracy: 0.5238\n",
      "Epoch 13/200\n",
      "88/88 [==============================] - 0s 3ms/step - loss: 0.9443 - accuracy: 0.5013 - val_loss: 0.9143 - val_accuracy: 0.5058\n",
      "Epoch 14/200\n",
      "88/88 [==============================] - 0s 3ms/step - loss: 0.9378 - accuracy: 0.5102 - val_loss: 0.9313 - val_accuracy: 0.4254\n",
      "Epoch 15/200\n",
      "88/88 [==============================] - 0s 3ms/step - loss: 1.0122 - accuracy: 0.4952 - val_loss: 0.9060 - val_accuracy: 0.5088\n",
      "Epoch 16/200\n",
      "88/88 [==============================] - 0s 3ms/step - loss: 0.9270 - accuracy: 0.5134 - val_loss: 0.9061 - val_accuracy: 0.5058\n",
      "Epoch 17/200\n",
      "88/88 [==============================] - 0s 3ms/step - loss: 0.9566 - accuracy: 0.5100 - val_loss: 0.9545 - val_accuracy: 0.4254\n",
      "Epoch 18/200\n",
      "88/88 [==============================] - 0s 3ms/step - loss: 0.9353 - accuracy: 0.5059 - val_loss: 0.9331 - val_accuracy: 0.5054\n",
      "Epoch 19/200\n",
      "88/88 [==============================] - 0s 3ms/step - loss: 0.9533 - accuracy: 0.4993 - val_loss: 0.8858 - val_accuracy: 0.5533\n",
      "Epoch 20/200\n",
      "88/88 [==============================] - 0s 3ms/step - loss: 0.9628 - accuracy: 0.5113 - val_loss: 0.8891 - val_accuracy: 0.5092\n",
      "Epoch 21/200\n",
      "88/88 [==============================] - 0s 3ms/step - loss: 1.0297 - accuracy: 0.4973 - val_loss: 1.2035 - val_accuracy: 0.4975\n",
      "Epoch 22/200\n",
      "88/88 [==============================] - 0s 3ms/step - loss: 0.9345 - accuracy: 0.5329 - val_loss: 0.8943 - val_accuracy: 0.4554\n",
      "Epoch 23/200\n",
      "88/88 [==============================] - 0s 3ms/step - loss: 0.9310 - accuracy: 0.5204 - val_loss: 0.8872 - val_accuracy: 0.4608\n",
      "Epoch 24/200\n",
      "88/88 [==============================] - 0s 3ms/step - loss: 0.9093 - accuracy: 0.5375 - val_loss: 0.9369 - val_accuracy: 0.4267\n",
      "Epoch 25/200\n",
      "88/88 [==============================] - 0s 3ms/step - loss: 0.9283 - accuracy: 0.5216 - val_loss: 0.9378 - val_accuracy: 0.4263\n",
      "Epoch 26/200\n",
      "88/88 [==============================] - 0s 3ms/step - loss: 0.9352 - accuracy: 0.5259 - val_loss: 0.8690 - val_accuracy: 0.6562\n",
      "Epoch 27/200\n",
      "88/88 [==============================] - 0s 3ms/step - loss: 0.9360 - accuracy: 0.5223 - val_loss: 0.8865 - val_accuracy: 0.5246\n",
      "Epoch 28/200\n",
      "88/88 [==============================] - 0s 3ms/step - loss: 0.9824 - accuracy: 0.4968 - val_loss: 0.8736 - val_accuracy: 0.6883\n",
      "Epoch 29/200\n",
      "88/88 [==============================] - 0s 3ms/step - loss: 0.9232 - accuracy: 0.5357 - val_loss: 0.8803 - val_accuracy: 0.6504\n",
      "Epoch 30/200\n",
      "88/88 [==============================] - 0s 3ms/step - loss: 0.9638 - accuracy: 0.4973 - val_loss: 0.9043 - val_accuracy: 0.5029\n",
      "Epoch 31/200\n",
      "88/88 [==============================] - 0s 3ms/step - loss: 0.9480 - accuracy: 0.5134 - val_loss: 0.8698 - val_accuracy: 0.6854\n",
      "Epoch 32/200\n",
      "88/88 [==============================] - 0s 3ms/step - loss: 0.9298 - accuracy: 0.5302 - val_loss: 0.9048 - val_accuracy: 0.5038\n",
      "Epoch 33/200\n",
      "88/88 [==============================] - 0s 3ms/step - loss: 0.9394 - accuracy: 0.5246 - val_loss: 0.8680 - val_accuracy: 0.7025\n",
      "Epoch 34/200\n",
      "88/88 [==============================] - 0s 3ms/step - loss: 0.9305 - accuracy: 0.5405 - val_loss: 0.8883 - val_accuracy: 0.6046\n",
      "Epoch 35/200\n",
      "88/88 [==============================] - 0s 3ms/step - loss: 0.9710 - accuracy: 0.5073 - val_loss: 0.9379 - val_accuracy: 0.5025\n",
      "Epoch 36/200\n",
      "88/88 [==============================] - 0s 3ms/step - loss: 0.9151 - accuracy: 0.5489 - val_loss: 0.9299 - val_accuracy: 0.4258\n",
      "Epoch 37/200\n",
      "88/88 [==============================] - 0s 3ms/step - loss: 0.9131 - accuracy: 0.5584 - val_loss: 0.8653 - val_accuracy: 0.6354\n",
      "Epoch 38/200\n",
      "88/88 [==============================] - 0s 3ms/step - loss: 0.9273 - accuracy: 0.5289 - val_loss: 0.8920 - val_accuracy: 0.5283\n",
      "Epoch 39/200\n",
      "88/88 [==============================] - 0s 3ms/step - loss: 0.9254 - accuracy: 0.5366 - val_loss: 0.9742 - val_accuracy: 0.5017\n",
      "Epoch 40/200\n",
      "88/88 [==============================] - 0s 3ms/step - loss: 0.9032 - accuracy: 0.5607 - val_loss: 0.8843 - val_accuracy: 0.6896\n",
      "Epoch 41/200\n",
      "88/88 [==============================] - 0s 3ms/step - loss: 0.8986 - accuracy: 0.5671 - val_loss: 0.8686 - val_accuracy: 0.5783\n",
      "Epoch 42/200\n",
      "88/88 [==============================] - 0s 3ms/step - loss: 0.9015 - accuracy: 0.5386 - val_loss: 0.9547 - val_accuracy: 0.4263\n",
      "Epoch 43/200\n",
      "88/88 [==============================] - 0s 3ms/step - loss: 0.9025 - accuracy: 0.5646 - val_loss: 0.8596 - val_accuracy: 0.6800\n",
      "Epoch 44/200\n",
      "88/88 [==============================] - 0s 3ms/step - loss: 0.9589 - accuracy: 0.5355 - val_loss: 0.8721 - val_accuracy: 0.5025\n",
      "Epoch 45/200\n",
      "88/88 [==============================] - 0s 3ms/step - loss: 0.9211 - accuracy: 0.5523 - val_loss: 0.8928 - val_accuracy: 0.5067\n",
      "Epoch 46/200\n",
      "88/88 [==============================] - 0s 3ms/step - loss: 0.8797 - accuracy: 0.6002 - val_loss: 0.8531 - val_accuracy: 0.7183\n",
      "Epoch 47/200\n",
      "88/88 [==============================] - 0s 3ms/step - loss: 0.8916 - accuracy: 0.5782 - val_loss: 0.8628 - val_accuracy: 0.6167\n",
      "Epoch 48/200\n",
      "88/88 [==============================] - 0s 3ms/step - loss: 0.8887 - accuracy: 0.5682 - val_loss: 0.8623 - val_accuracy: 0.6929\n",
      "Epoch 49/200\n",
      "88/88 [==============================] - 0s 3ms/step - loss: 0.8911 - accuracy: 0.5695 - val_loss: 0.8537 - val_accuracy: 0.6288\n",
      "Epoch 50/200\n",
      "88/88 [==============================] - 0s 3ms/step - loss: 0.8871 - accuracy: 0.5850 - val_loss: 0.8438 - val_accuracy: 0.7108\n",
      "Epoch 51/200\n",
      "88/88 [==============================] - 0s 3ms/step - loss: 0.8917 - accuracy: 0.5668 - val_loss: 0.8350 - val_accuracy: 0.7021\n",
      "Epoch 52/200\n",
      "88/88 [==============================] - 0s 3ms/step - loss: 0.8793 - accuracy: 0.5902 - val_loss: 0.8386 - val_accuracy: 0.6792\n",
      "Epoch 53/200\n",
      "88/88 [==============================] - 0s 3ms/step - loss: 0.8788 - accuracy: 0.5734 - val_loss: 0.8329 - val_accuracy: 0.7479\n",
      "Epoch 54/200\n",
      "88/88 [==============================] - 0s 3ms/step - loss: 0.9295 - accuracy: 0.5345 - val_loss: 1.1358 - val_accuracy: 0.4250\n",
      "Epoch 55/200\n",
      "88/88 [==============================] - 0s 3ms/step - loss: 0.9092 - accuracy: 0.5670 - val_loss: 0.8556 - val_accuracy: 0.6754\n",
      "Epoch 56/200\n",
      "88/88 [==============================] - 0s 3ms/step - loss: 0.9122 - accuracy: 0.5487 - val_loss: 0.8386 - val_accuracy: 0.7254\n",
      "Epoch 57/200\n",
      "88/88 [==============================] - 0s 3ms/step - loss: 0.8910 - accuracy: 0.5891 - val_loss: 0.8682 - val_accuracy: 0.5288\n",
      "Epoch 58/200\n",
      "88/88 [==============================] - 0s 3ms/step - loss: 0.8890 - accuracy: 0.5836 - val_loss: 0.8360 - val_accuracy: 0.7096\n",
      "Epoch 59/200\n",
      "88/88 [==============================] - 0s 3ms/step - loss: 0.8934 - accuracy: 0.5584 - val_loss: 0.8891 - val_accuracy: 0.5150\n",
      "Epoch 60/200\n",
      "88/88 [==============================] - 0s 3ms/step - loss: 0.8799 - accuracy: 0.5982 - val_loss: 0.8321 - val_accuracy: 0.7283\n",
      "Epoch 61/200\n",
      "88/88 [==============================] - 0s 3ms/step - loss: 0.9346 - accuracy: 0.5307 - val_loss: 0.8322 - val_accuracy: 0.7083\n",
      "Epoch 62/200\n",
      "88/88 [==============================] - 0s 3ms/step - loss: 0.8663 - accuracy: 0.6098 - val_loss: 0.8385 - val_accuracy: 0.7296\n",
      "Epoch 63/200\n",
      "88/88 [==============================] - 0s 3ms/step - loss: 0.8915 - accuracy: 0.5764 - val_loss: 0.8283 - val_accuracy: 0.7246\n",
      "Epoch 64/200\n",
      "88/88 [==============================] - 0s 3ms/step - loss: 0.9164 - accuracy: 0.5314 - val_loss: 0.8707 - val_accuracy: 0.5504\n",
      "Epoch 65/200\n",
      "88/88 [==============================] - 0s 3ms/step - loss: 0.8798 - accuracy: 0.5909 - val_loss: 0.8462 - val_accuracy: 0.5804\n",
      "Epoch 66/200\n",
      "88/88 [==============================] - 0s 3ms/step - loss: 0.8554 - accuracy: 0.6386 - val_loss: 0.8270 - val_accuracy: 0.7021\n",
      "Epoch 67/200\n",
      "88/88 [==============================] - 0s 3ms/step - loss: 0.8738 - accuracy: 0.5936 - val_loss: 0.8222 - val_accuracy: 0.7417\n",
      "Epoch 68/200\n",
      "88/88 [==============================] - 0s 3ms/step - loss: 0.8709 - accuracy: 0.5891 - val_loss: 0.8278 - val_accuracy: 0.7138\n",
      "Epoch 69/200\n",
      "88/88 [==============================] - 0s 3ms/step - loss: 0.8779 - accuracy: 0.5864 - val_loss: 0.8670 - val_accuracy: 0.4837\n",
      "Epoch 70/200\n",
      "88/88 [==============================] - 0s 3ms/step - loss: 0.9373 - accuracy: 0.5048 - val_loss: 0.8693 - val_accuracy: 0.5317\n",
      "Epoch 71/200\n",
      "88/88 [==============================] - 0s 3ms/step - loss: 0.9101 - accuracy: 0.5589 - val_loss: 0.8398 - val_accuracy: 0.5833\n",
      "Epoch 72/200\n",
      "88/88 [==============================] - 0s 3ms/step - loss: 0.8918 - accuracy: 0.5495 - val_loss: 0.8166 - val_accuracy: 0.7375\n",
      "Epoch 73/200\n",
      "88/88 [==============================] - 0s 3ms/step - loss: 0.8548 - accuracy: 0.6157 - val_loss: 0.8893 - val_accuracy: 0.5113\n",
      "Epoch 74/200\n",
      "88/88 [==============================] - 0s 3ms/step - loss: 0.8917 - accuracy: 0.5675 - val_loss: 0.8580 - val_accuracy: 0.5692\n",
      "Epoch 75/200\n",
      "88/88 [==============================] - 0s 3ms/step - loss: 0.8567 - accuracy: 0.6205 - val_loss: 0.8166 - val_accuracy: 0.7408\n",
      "Epoch 76/200\n",
      "88/88 [==============================] - 0s 3ms/step - loss: 0.8786 - accuracy: 0.6080 - val_loss: 1.0480 - val_accuracy: 0.5013\n",
      "Epoch 77/200\n",
      "88/88 [==============================] - 0s 3ms/step - loss: 0.9063 - accuracy: 0.5593 - val_loss: 0.8329 - val_accuracy: 0.6454\n",
      "Epoch 78/200\n",
      "88/88 [==============================] - 0s 3ms/step - loss: 0.8642 - accuracy: 0.6141 - val_loss: 0.8096 - val_accuracy: 0.7354\n",
      "Epoch 79/200\n",
      "88/88 [==============================] - 0s 3ms/step - loss: 0.8741 - accuracy: 0.5845 - val_loss: 0.9390 - val_accuracy: 0.4279\n",
      "Epoch 80/200\n",
      "88/88 [==============================] - 0s 3ms/step - loss: 0.8533 - accuracy: 0.6148 - val_loss: 0.8383 - val_accuracy: 0.6204\n",
      "Epoch 81/200\n",
      "88/88 [==============================] - 0s 3ms/step - loss: 0.8743 - accuracy: 0.5893 - val_loss: 0.8098 - val_accuracy: 0.6896\n",
      "Epoch 82/200\n",
      "88/88 [==============================] - 0s 3ms/step - loss: 0.8814 - accuracy: 0.5725 - val_loss: 0.8114 - val_accuracy: 0.6829\n",
      "Epoch 83/200\n",
      "88/88 [==============================] - 0s 3ms/step - loss: 0.8587 - accuracy: 0.6107 - val_loss: 0.8437 - val_accuracy: 0.5475\n",
      "Epoch 84/200\n",
      "88/88 [==============================] - 0s 3ms/step - loss: 0.8705 - accuracy: 0.5718 - val_loss: 0.8565 - val_accuracy: 0.5750\n",
      "Epoch 85/200\n",
      "88/88 [==============================] - 0s 3ms/step - loss: 0.8409 - accuracy: 0.6289 - val_loss: 0.8042 - val_accuracy: 0.6954\n",
      "Epoch 86/200\n",
      "88/88 [==============================] - 0s 3ms/step - loss: 0.8312 - accuracy: 0.6530 - val_loss: 0.8141 - val_accuracy: 0.6721\n",
      "Epoch 87/200\n",
      "88/88 [==============================] - 0s 3ms/step - loss: 0.8513 - accuracy: 0.6127 - val_loss: 0.8763 - val_accuracy: 0.5225\n",
      "Epoch 88/200\n",
      "88/88 [==============================] - 0s 3ms/step - loss: 0.8523 - accuracy: 0.5941 - val_loss: 0.8219 - val_accuracy: 0.6558\n",
      "Epoch 89/200\n",
      "88/88 [==============================] - 0s 3ms/step - loss: 0.8332 - accuracy: 0.6375 - val_loss: 0.8080 - val_accuracy: 0.6604\n",
      "Epoch 90/200\n",
      "88/88 [==============================] - 0s 3ms/step - loss: 0.8295 - accuracy: 0.6443 - val_loss: 0.8390 - val_accuracy: 0.5700\n",
      "Epoch 91/200\n",
      "88/88 [==============================] - 0s 3ms/step - loss: 0.8758 - accuracy: 0.5636 - val_loss: 0.8138 - val_accuracy: 0.6254\n",
      "Epoch 92/200\n",
      "88/88 [==============================] - 0s 3ms/step - loss: 0.8325 - accuracy: 0.6296 - val_loss: 0.8426 - val_accuracy: 0.5275\n",
      "Epoch 93/200\n",
      "88/88 [==============================] - 0s 3ms/step - loss: 0.8593 - accuracy: 0.5827 - val_loss: 0.9409 - val_accuracy: 0.5063\n",
      "Epoch 94/200\n",
      "88/88 [==============================] - 0s 3ms/step - loss: 0.8358 - accuracy: 0.6221 - val_loss: 0.8287 - val_accuracy: 0.5883\n",
      "Epoch 95/200\n",
      "88/88 [==============================] - 0s 3ms/step - loss: 0.8223 - accuracy: 0.6548 - val_loss: 0.8841 - val_accuracy: 0.5167\n",
      "63/63 - 0s - loss: 0.8884 - accuracy: 0.5135 - 115ms/epoch - 2ms/step\n"
     ]
    },
    {
     "data": {
      "text/plain": [
       "[0.8884322047233582, 0.5134999752044678]"
      ]
     },
     "execution_count": 53,
     "metadata": {},
     "output_type": "execute_result"
    }
   ],
   "source": [
    "history = model.fit(X_train, y_train, epochs=100, validation_split=.3, callbacks=[early_stop_cb], batch_size=32)\n",
    "\n",
    "\n",
    "model.evaluate(X_test,  y_test, verbose=2)"
   ]
  },
  {
   "cell_type": "code",
   "execution_count": 45,
   "metadata": {},
   "outputs": [
    {
     "name": "stdout",
     "output_type": "stream",
     "text": [
      "dict_keys(['loss', 'accuracy', 'val_loss', 'val_accuracy'])\n"
     ]
    },
    {
     "data": {
      "image/png": "[encoded data removed]",
      "text/plain": [
       "<Figure size 432x288 with 1 Axes>"
      ]
     },
     "metadata": {
      "needs_background": "light"
     },
     "output_type": "display_data"
    }
   ],
   "source": [
    "print(history.history.keys())\n",
    "loss_values = history.history['loss']\n",
    "accuracy_values = history.history['val_loss']\n",
    "epochs = range(1, len(loss_values)+1)\n",
    "\n",
    "plt.plot(epochs, loss_values, label='Training Loss')\n",
    "plt.plot(epochs, accuracy_values,  label='Validation Loss')\n",
    "plt.xlabel('Epochs')\n",
    "plt.ylabel('Loss')\n",
    "plt.legend()\n",
    "\n",
    "plt.show()"
   ]
  },
  {
   "cell_type": "code",
   "execution_count": 46,
   "metadata": {},
   "outputs": [
    {
     "data": {
      "image/png": "[encoded data removed]",
      "text/plain": [
       "<Figure size 432x288 with 1 Axes>"
      ]
     },
     "metadata": {
      "needs_background": "light"
     },
     "output_type": "display_data"
    }
   ],
   "source": [
    "training_accuracy_values = history.history['accuracy']\n",
    "val_accuracy_values = history.history['val_accuracy']\n",
    "epochs = range(1, len(loss_values)+1)\n",
    "\n",
    "plt.plot(epochs, training_accuracy_values, label='Training Accuracy')\n",
    "plt.plot(epochs, val_accuracy_values,  label='Validation Accuracy')\n",
    "plt.xlabel('Epochs')\n",
    "plt.ylabel('Accuracy')\n",
    "plt.legend()\n",
    "\n",
    "plt.show()"
   ]
  },
  {
   "cell_type": "code",
   "execution_count": null,
   "metadata": {},
   "outputs": [],
   "source": []
  }
 ],
 "metadata": {
  "kernelspec": {
   "display_name": "Python 3.9.7 64-bit",
   "language": "python",
   "name": "python3"
  },
  "language_info": {
   "codemirror_mode": {
    "name": "ipython",
    "version": 3
   },
   "file_extension": ".py",
   "mimetype": "text/x-python",
   "name": "python",
   "nbconvert_exporter": "python",
   "pygments_lexer": "ipython3",
   "version": "3.9.7"
  },
  "orig_nbformat": 4,
  "vscode": {
   "interpreter": {
    "hash": "ba4c651cdc5ec17c511bce19f294202fdc45305f9de1f927c569f32faa173ead"
   }
  }
 },
 "nbformat": 4,
 "nbformat_minor": 2
}
